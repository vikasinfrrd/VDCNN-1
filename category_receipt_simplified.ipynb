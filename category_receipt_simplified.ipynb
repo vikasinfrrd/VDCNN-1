{
  "nbformat": 4,
  "nbformat_minor": 0,
  "metadata": {
    "colab": {
      "name": "category_receipt_simplified.ipynb",
      "version": "0.3.2",
      "provenance": [],
      "include_colab_link": true
    },
    "kernelspec": {
      "name": "python3",
      "display_name": "Python 3"
    },
    "accelerator": "GPU"
  },
  "cells": [
    {
      "cell_type": "markdown",
      "metadata": {
        "id": "view-in-github",
        "colab_type": "text"
      },
      "source": [
        "[View in Colaboratory](https://colab.research.google.com/github/vikasinfrrd/VDCNN-1/blob/master/category_receipt_simplified.ipynb)"
      ]
    },
    {
      "metadata": {
        "id": "ybpyzVft9J32",
        "colab_type": "code",
        "colab": {}
      },
      "cell_type": "code",
      "source": [
        "import re\n",
        "import numpy as np\n",
        "import pandas as pd\n",
        "\n",
        "from nltk.corpus import stopwords\n",
        "from nltk.stem import SnowballStemmer\n",
        "from string import punctuation\n",
        "\n",
        "import tensorflow as tf\n",
        "from keras.models import Sequential\n",
        "from keras.layers import Conv1D, BatchNormalization, Activation\n",
        "from keras.layers import Embedding, Input, Dense, Dropout, Lambda, MaxPooling1D, Flatten\n",
        "from keras.optimizers import SGD\n",
        "from keras.models import Model\n",
        "from keras.callbacks import EarlyStopping, ModelCheckpoint"
      ],
      "execution_count": 0,
      "outputs": []
    },
    {
      "metadata": {
        "id": "_RmePikc9cbK",
        "colab_type": "code",
        "colab": {
          "base_uri": "https://localhost:8080/",
          "height": 119
        },
        "outputId": "d33c47fe-a37c-4d32-f4e3-f48916c767fa"
      },
      "cell_type": "code",
      "source": [
        "!pip install -U -q PyDrive\n",
        "import os\n",
        "from pydrive.auth import GoogleAuth\n",
        "from pydrive.drive import GoogleDrive\n",
        "from google.colab import auth\n",
        "from oauth2client.client import GoogleCredentials\n",
        "\n",
        "# 1. Authentinon_ receipte and create the PyDrive client.\n",
        "auth.authenticate_user()\n",
        "gauth = GoogleAuth()\n",
        "gauth.credentials = GoogleCredentials.get_application_default()\n",
        "drive = GoogleDrive(gauth)\n",
        "\n",
        "# choose a local (colab) directory to store the data.\n",
        "local_download_path = os.path.expanduser('~/data')\n",
        "try:\n",
        "  os.makedirs(local_download_path)\n",
        "except: pass\n",
        "\n",
        "# 2. Auto-iterate using the query syntax\n",
        "#    https://developers.google.com/drive/v2/web/search-parameters\n",
        "file_list = drive.ListFile(\n",
        "    {'q': \"'19IdA932GOmmKzkyTFX9bn-tFD7kmjNTx' in parents\"}).GetList()\n",
        "\n",
        "for f in file_list:\n",
        "  # 3. Create & download by id.\n",
        "  print('title: %s, id: %s' % (f['title'], f['id']))\n",
        "  fname = os.path.join(local_download_path, f['title'])\n",
        "  print('downloading to {}'.format(fname))\n",
        "  f_ = drive.CreateFile({'id': f['id']})\n",
        "  f_.GetContentFile(fname)\n"
      ],
      "execution_count": 15,
      "outputs": [
        {
          "output_type": "stream",
          "text": [
            "\u001b[33mYou are using pip version 10.0.1, however version 18.0 is available.\r\n",
            "You should consider upgrading via the 'pip install --upgrade pip' command.\u001b[0m\r\n",
            "title: train123, id: 1OySIpfoO-uPrn1XQsfDKnOBFf7Z3xiTV\n",
            "downloading to /content/data/train123\n",
            "title: train_686_raw_text_Category_s3imagepath, id: 1rA5sNgPYz_wybzBIHl38wsrkwilPqdp0\n",
            "downloading to /content/data/train_686_raw_text_Category_s3imagepath\n"
          ],
          "name": "stdout"
        }
      ]
    },
    {
      "metadata": {
        "id": "uWD4BjmE9mhO",
        "colab_type": "code",
        "colab": {
          "base_uri": "https://localhost:8080/",
          "height": 51
        },
        "outputId": "e100b2ce-83ad-48a8-e0aa-e20619ec2577"
      },
      "cell_type": "code",
      "source": [
        "cd data"
      ],
      "execution_count": 16,
      "outputs": [
        {
          "output_type": "stream",
          "text": [
            "[Errno 2] No such file or directory: 'data'\n",
            "/content/data\n"
          ],
          "name": "stdout"
        }
      ]
    },
    {
      "metadata": {
        "id": "BjUoq5ze-WOf",
        "colab_type": "code",
        "colab": {}
      },
      "cell_type": "code",
      "source": [
        "train = pd.read_csv('train_686_raw_text_Category_s3imagepath')\n",
        "train123 = pd.read_csv('train123')"
      ],
      "execution_count": 0,
      "outputs": []
    },
    {
      "metadata": {
        "id": "PEVOU4vC-wgA",
        "colab_type": "code",
        "colab": {
          "base_uri": "https://localhost:8080/",
          "height": 204
        },
        "outputId": "bc3ca31c-e080-40a4-fc73-536d2a17c7ec"
      },
      "cell_type": "code",
      "source": [
        "train.head()"
      ],
      "execution_count": 18,
      "outputs": [
        {
          "output_type": "execute_result",
          "data": {
            "text/html": [
              "<div>\n",
              "<style scoped>\n",
              "    .dataframe tbody tr th:only-of-type {\n",
              "        vertical-align: middle;\n",
              "    }\n",
              "\n",
              "    .dataframe tbody tr th {\n",
              "        vertical-align: top;\n",
              "    }\n",
              "\n",
              "    .dataframe thead th {\n",
              "        text-align: right;\n",
              "    }\n",
              "</style>\n",
              "<table border=\"1\" class=\"dataframe\">\n",
              "  <thead>\n",
              "    <tr style=\"text-align: right;\">\n",
              "      <th></th>\n",
              "      <th>Unnamed: 0</th>\n",
              "      <th>raw_text</th>\n",
              "      <th>Catergory</th>\n",
              "      <th>s3imagepath</th>\n",
              "    </tr>\n",
              "  </thead>\n",
              "  <tbody>\n",
              "    <tr>\n",
              "      <th>0</th>\n",
              "      <td>0</td>\n",
              "      <td>Het Klooster\\n Hotel-Brasserie-B&amp;B\\nOnderwijsl...</td>\n",
              "      <td>meal</td>\n",
              "      <td>http://s3-us-west-2.amazonaws.com/gimlet-stagi...</td>\n",
              "    </tr>\n",
              "    <tr>\n",
              "      <th>1</th>\n",
              "      <td>1</td>\n",
              "      <td>Parking Cantecleer\\n Vilvoorde\\n\\n\\n\\n\\n Binne...</td>\n",
              "      <td>parking</td>\n",
              "      <td>http://s3-us-west-2.amazonaws.com/gimlet-stagi...</td>\n",
              "    </tr>\n",
              "    <tr>\n",
              "      <th>2</th>\n",
              "      <td>2</td>\n",
              "      <td>You can win everyweek one\\n jood? SamsungGALAX...</td>\n",
              "      <td>meal</td>\n",
              "      <td>http://s3-us-west-2.amazonaws.com/gimlet-stagi...</td>\n",
              "    </tr>\n",
              "    <tr>\n",
              "      <th>3</th>\n",
              "      <td>3</td>\n",
              "      <td>my hotel\\n CARD SALE VOUCHER\\n Table BBC CUSTO...</td>\n",
              "      <td>hotel</td>\n",
              "      <td>http://s3-us-west-2.amazonaws.com/gimlet-stagi...</td>\n",
              "    </tr>\n",
              "    <tr>\n",
              "      <th>4</th>\n",
              "      <td>4</td>\n",
              "      <td>KEN ANTWERPEN\\n 2000\\nTERMINAL:01563106\\nPER.:...</td>\n",
              "      <td>miscellaneous</td>\n",
              "      <td>http://s3-us-west-2.amazonaws.com/gimlet-stagi...</td>\n",
              "    </tr>\n",
              "  </tbody>\n",
              "</table>\n",
              "</div>"
            ],
            "text/plain": [
              "   Unnamed: 0                                           raw_text  \\\n",
              "0           0  Het Klooster\\n Hotel-Brasserie-B&B\\nOnderwijsl...   \n",
              "1           1  Parking Cantecleer\\n Vilvoorde\\n\\n\\n\\n\\n Binne...   \n",
              "2           2  You can win everyweek one\\n jood? SamsungGALAX...   \n",
              "3           3  my hotel\\n CARD SALE VOUCHER\\n Table BBC CUSTO...   \n",
              "4           4  KEN ANTWERPEN\\n 2000\\nTERMINAL:01563106\\nPER.:...   \n",
              "\n",
              "       Catergory                                        s3imagepath  \n",
              "0           meal  http://s3-us-west-2.amazonaws.com/gimlet-stagi...  \n",
              "1        parking  http://s3-us-west-2.amazonaws.com/gimlet-stagi...  \n",
              "2           meal  http://s3-us-west-2.amazonaws.com/gimlet-stagi...  \n",
              "3          hotel  http://s3-us-west-2.amazonaws.com/gimlet-stagi...  \n",
              "4  miscellaneous  http://s3-us-west-2.amazonaws.com/gimlet-stagi...  "
            ]
          },
          "metadata": {
            "tags": []
          },
          "execution_count": 18
        }
      ]
    },
    {
      "metadata": {
        "id": "mB116PAYf6pF",
        "colab_type": "code",
        "colab": {}
      },
      "cell_type": "code",
      "source": [
        "train123.columns = train.columns"
      ],
      "execution_count": 0,
      "outputs": []
    },
    {
      "metadata": {
        "id": "31SaehQsfIDr",
        "colab_type": "code",
        "colab": {}
      },
      "cell_type": "code",
      "source": [
        "train_all = pd.concat([train,train123],axis = 0,ignore_index = True)"
      ],
      "execution_count": 0,
      "outputs": []
    },
    {
      "metadata": {
        "id": "cK-XYKrsfw1-",
        "colab_type": "code",
        "colab": {
          "base_uri": "https://localhost:8080/",
          "height": 204
        },
        "outputId": "a5ae44b0-a401-47ab-e8a5-3d8f05859168"
      },
      "cell_type": "code",
      "source": [
        "train_all.tail()"
      ],
      "execution_count": 39,
      "outputs": [
        {
          "output_type": "execute_result",
          "data": {
            "text/html": [
              "<div>\n",
              "<style scoped>\n",
              "    .dataframe tbody tr th:only-of-type {\n",
              "        vertical-align: middle;\n",
              "    }\n",
              "\n",
              "    .dataframe tbody tr th {\n",
              "        vertical-align: top;\n",
              "    }\n",
              "\n",
              "    .dataframe thead th {\n",
              "        text-align: right;\n",
              "    }\n",
              "</style>\n",
              "<table border=\"1\" class=\"dataframe\">\n",
              "  <thead>\n",
              "    <tr style=\"text-align: right;\">\n",
              "      <th></th>\n",
              "      <th>Unnamed: 0</th>\n",
              "      <th>raw_text</th>\n",
              "      <th>Catergory</th>\n",
              "      <th>s3imagepath</th>\n",
              "    </tr>\n",
              "  </thead>\n",
              "  <tbody>\n",
              "    <tr>\n",
              "      <th>1281</th>\n",
              "      <td>195</td>\n",
              "      <td>DB                                        On...</td>\n",
              "      <td>Airfare</td>\n",
              "      <td>http://s3-eu-central-1.amazonaws.com/gimlet-sc...</td>\n",
              "    </tr>\n",
              "    <tr>\n",
              "      <th>1282</th>\n",
              "      <td>196</td>\n",
              "      <td>Online-  Ticket                         ...</td>\n",
              "      <td>Airfare</td>\n",
              "      <td>http://s3-eu-central-1.amazonaws.com/gimlet-sc...</td>\n",
              "    </tr>\n",
              "    <tr>\n",
              "      <th>1283</th>\n",
              "      <td>197</td>\n",
              "      <td>DB                                        On...</td>\n",
              "      <td>Airfare</td>\n",
              "      <td>http://s3-eu-central-1.amazonaws.com/gimlet-sc...</td>\n",
              "    </tr>\n",
              "    <tr>\n",
              "      <th>1284</th>\n",
              "      <td>198</td>\n",
              "      <td>IDB                                        On...</td>\n",
              "      <td>Airfare</td>\n",
              "      <td>http://s3-eu-central-1.amazonaws.com/gimlet-sc...</td>\n",
              "    </tr>\n",
              "    <tr>\n",
              "      <th>1285</th>\n",
              "      <td>199</td>\n",
              "      <td>DB                                        On...</td>\n",
              "      <td>Airfare</td>\n",
              "      <td>http://s3-eu-central-1.amazonaws.com/gimlet-sc...</td>\n",
              "    </tr>\n",
              "  </tbody>\n",
              "</table>\n",
              "</div>"
            ],
            "text/plain": [
              "      Unnamed: 0                                           raw_text Catergory  \\\n",
              "1281         195    DB                                        On...   Airfare   \n",
              "1282         196        Online-  Ticket                         ...   Airfare   \n",
              "1283         197    DB                                        On...   Airfare   \n",
              "1284         198   IDB                                        On...   Airfare   \n",
              "1285         199    DB                                        On...   Airfare   \n",
              "\n",
              "                                            s3imagepath  \n",
              "1281  http://s3-eu-central-1.amazonaws.com/gimlet-sc...  \n",
              "1282  http://s3-eu-central-1.amazonaws.com/gimlet-sc...  \n",
              "1283  http://s3-eu-central-1.amazonaws.com/gimlet-sc...  \n",
              "1284  http://s3-eu-central-1.amazonaws.com/gimlet-sc...  \n",
              "1285  http://s3-eu-central-1.amazonaws.com/gimlet-sc...  "
            ]
          },
          "metadata": {
            "tags": []
          },
          "execution_count": 39
        }
      ]
    },
    {
      "metadata": {
        "id": "Nu_moXQWgE2K",
        "colab_type": "code",
        "colab": {
          "base_uri": "https://localhost:8080/",
          "height": 34
        },
        "outputId": "7cabcd0e-b773-46c4-c979-5e5e781e1da8"
      },
      "cell_type": "code",
      "source": [
        "train_all.shape"
      ],
      "execution_count": 22,
      "outputs": [
        {
          "output_type": "execute_result",
          "data": {
            "text/plain": [
              "(1286, 4)"
            ]
          },
          "metadata": {
            "tags": []
          },
          "execution_count": 22
        }
      ]
    },
    {
      "metadata": {
        "id": "dj0B5iExD0o9",
        "colab_type": "code",
        "colab": {}
      },
      "cell_type": "code",
      "source": [
        "train_all.to_csv('train_all.csv')"
      ],
      "execution_count": 0,
      "outputs": []
    },
    {
      "metadata": {
        "id": "Y6HsNQ2_EI11",
        "colab_type": "code",
        "colab": {
          "base_uri": "https://localhost:8080/",
          "height": 34
        },
        "outputId": "33147fd9-cb2a-49ef-854e-e207ce470586"
      },
      "cell_type": "code",
      "source": [
        "# Create & upload a file.\n",
        "uploaded = drive.CreateFile({'train_all.csv': 'train_all.csv'})\n",
        "uploaded.SetContentFile('train_all.csv')\n",
        "uploaded.Upload()\n",
        "print('Uploaded file with ID {}'.format(uploaded.get('id')))\n",
        "\n"
      ],
      "execution_count": 13,
      "outputs": [
        {
          "output_type": "stream",
          "text": [
            "Uploaded file with ID 1RBgFY2C0u80VpisaqQqlTv4jwWJZ9_n8\n"
          ],
          "name": "stdout"
        }
      ]
    },
    {
      "metadata": {
        "id": "2uR8QzUt-0bi",
        "colab_type": "code",
        "colab": {}
      },
      "cell_type": "code",
      "source": [
        "train_all['raw_text'] = train_all['raw_text'].astype('str')"
      ],
      "execution_count": 0,
      "outputs": []
    },
    {
      "metadata": {
        "id": "obGDPu8x_4IE",
        "colab_type": "code",
        "colab": {}
      },
      "cell_type": "code",
      "source": [
        "len_raw_text = []\n",
        "for i in range(train_all.shape[0]):\n",
        "  len_raw_text.append(len(train_all.raw_text[i]))"
      ],
      "execution_count": 0,
      "outputs": []
    },
    {
      "metadata": {
        "id": "pbOzGArXgjpk",
        "colab_type": "code",
        "colab": {
          "base_uri": "https://localhost:8080/",
          "height": 85
        },
        "outputId": "48b1c117-a8d5-469f-c1bc-3adabd15965c"
      },
      "cell_type": "code",
      "source": [
        "train_all.raw_text[i-2:i+2]"
      ],
      "execution_count": 42,
      "outputs": [
        {
          "output_type": "execute_result",
          "data": {
            "text/plain": [
              "1283      DB                                        On...\n",
              "1284     IDB                                        On...\n",
              "1285      DB                                        On...\n",
              "Name: raw_text, dtype: object"
            ]
          },
          "metadata": {
            "tags": []
          },
          "execution_count": 42
        }
      ]
    },
    {
      "metadata": {
        "id": "ZzAvqeOY05q-",
        "colab_type": "code",
        "colab": {}
      },
      "cell_type": "code",
      "source": [
        "#print(train_all.raw_text[1285])"
      ],
      "execution_count": 0,
      "outputs": []
    },
    {
      "metadata": {
        "id": "22_ExTyzCV5U",
        "colab_type": "code",
        "colab": {}
      },
      "cell_type": "code",
      "source": [
        "import matplotlib.pyplot as plt"
      ],
      "execution_count": 0,
      "outputs": []
    },
    {
      "metadata": {
        "id": "IdxD8QEBCnPM",
        "colab_type": "code",
        "colab": {
          "base_uri": "https://localhost:8080/",
          "height": 415
        },
        "outputId": "4080062c-e7b5-467e-c474-8aa8a6d52280"
      },
      "cell_type": "code",
      "source": [
        "plt.hist(len_raw_text)"
      ],
      "execution_count": 45,
      "outputs": [
        {
          "output_type": "execute_result",
          "data": {
            "text/plain": [
              "(array([924., 278.,  70.,  13.,   0.,   0.,   0.,   0.,   0.,   1.]),\n",
              " array([   84.,  3446.,  6808., 10170., 13532., 16894., 20256., 23618.,\n",
              "        26980., 30342., 33704.]),\n",
              " <a list of 10 Patch objects>)"
            ]
          },
          "metadata": {
            "tags": []
          },
          "execution_count": 45
        },
        {
          "output_type": "display_data",
          "data": {
            "image/png": "[encoded data removed]",
            "text/plain": [
              "<matplotlib.figure.Figure at 0x7fb2f2414828>"
            ]
          },
          "metadata": {
            "tags": []
          }
        }
      ]
    },
    {
      "metadata": {
        "id": "AtU-imN8ACXK",
        "colab_type": "code",
        "colab": {}
      },
      "cell_type": "code",
      "source": [
        "raw_text_all = train_all['raw_text'].tolist"
      ],
      "execution_count": 0,
      "outputs": []
    },
    {
      "metadata": {
        "id": "lw0XA0X0AXeI",
        "colab_type": "code",
        "colab": {}
      },
      "cell_type": "code",
      "source": [
        "#raw_text_all()[:1]"
      ],
      "execution_count": 0,
      "outputs": []
    },
    {
      "metadata": {
        "id": "hl6rtLG-A2fH",
        "colab_type": "code",
        "colab": {}
      },
      "cell_type": "code",
      "source": [
        "raw_tex_all_one = ' '.join(raw_text_all())"
      ],
      "execution_count": 0,
      "outputs": []
    },
    {
      "metadata": {
        "id": "FcrAztA8A_fN",
        "colab_type": "code",
        "colab": {
          "base_uri": "https://localhost:8080/",
          "height": 34
        },
        "outputId": "5b4fc191-ccb6-4713-ea1b-97bd195123f8"
      },
      "cell_type": "code",
      "source": [
        "len(raw_tex_all_one)"
      ],
      "execution_count": 49,
      "outputs": [
        {
          "output_type": "execute_result",
          "data": {
            "text/plain": [
              "3034694"
            ]
          },
          "metadata": {
            "tags": []
          },
          "execution_count": 49
        }
      ]
    },
    {
      "metadata": {
        "id": "5S0guEfFBCyc",
        "colab_type": "code",
        "colab": {
          "base_uri": "https://localhost:8080/",
          "height": 34
        },
        "outputId": "33b323c1-e25c-41a5-bfdb-9a7192b8ab56"
      },
      "cell_type": "code",
      "source": [
        "len(set(raw_tex_all_one))"
      ],
      "execution_count": 50,
      "outputs": [
        {
          "output_type": "execute_result",
          "data": {
            "text/plain": [
              "470"
            ]
          },
          "metadata": {
            "tags": []
          },
          "execution_count": 50
        }
      ]
    },
    {
      "metadata": {
        "id": "R3aa88IWBLsT",
        "colab_type": "code",
        "colab": {}
      },
      "cell_type": "code",
      "source": [
        "raw_tex_all_char = set(raw_tex_all_one)"
      ],
      "execution_count": 0,
      "outputs": []
    },
    {
      "metadata": {
        "id": "pYpJxbaTBYEP",
        "colab_type": "code",
        "colab": {}
      },
      "cell_type": "code",
      "source": [
        "ALPHABET = ''.join(raw_tex_all_char)"
      ],
      "execution_count": 0,
      "outputs": []
    },
    {
      "metadata": {
        "id": "QR4ZUybaiDyv",
        "colab_type": "code",
        "colab": {
          "base_uri": "https://localhost:8080/",
          "height": 187
        },
        "outputId": "2eac5e4e-6189-49d3-d364-dc509e163a8a"
      },
      "cell_type": "code",
      "source": [
        "train_all.Catergory.value_counts()"
      ],
      "execution_count": 53,
      "outputs": [
        {
          "output_type": "execute_result",
          "data": {
            "text/plain": [
              "meal             288\n",
              "Grocery          225\n",
              "taxi             203\n",
              "Airfare          201\n",
              "miscellaneous    188\n",
              "parking           73\n",
              "fuel              41\n",
              "transport         39\n",
              "hotel             28\n",
              "Name: Catergory, dtype: int64"
            ]
          },
          "metadata": {
            "tags": []
          },
          "execution_count": 53
        }
      ]
    },
    {
      "metadata": {
        "id": "cFUq8LuG2kGv",
        "colab_type": "code",
        "colab": {
          "base_uri": "https://localhost:8080/",
          "height": 462
        },
        "outputId": "90b0318b-8424-489c-dac2-2cf8dacce7c7"
      },
      "cell_type": "code",
      "source": [
        "category_int_encode = dict()\n",
        "train_all.Catergory_int_enocde = train_all.Catergory\n",
        "for i,m in enumerate(train_all.Catergory.unique()):\n",
        "  train_all.Catergory_int_enocde[train_all.Catergory == m] = i\n",
        "  category_int_encode[str(i)] = m\n",
        "  print(i)\n",
        "  print(m)"
      ],
      "execution_count": 54,
      "outputs": [
        {
          "output_type": "stream",
          "text": [
            "/usr/local/lib/python3.6/dist-packages/ipykernel_launcher.py:2: UserWarning: Pandas doesn't allow columns to be created via a new attribute name - see https://pandas.pydata.org/pandas-docs/stable/indexing.html#attribute-access\n",
            "  \n",
            "/usr/local/lib/python3.6/dist-packages/ipykernel_launcher.py:4: SettingWithCopyWarning: \n",
            "A value is trying to be set on a copy of a slice from a DataFrame\n",
            "\n",
            "See the caveats in the documentation: http://pandas.pydata.org/pandas-docs/stable/indexing.html#indexing-view-versus-copy\n",
            "  after removing the cwd from sys.path.\n"
          ],
          "name": "stderr"
        },
        {
          "output_type": "stream",
          "text": [
            "0\n",
            "meal\n",
            "1\n",
            "parking\n",
            "2\n",
            "hotel\n",
            "3\n",
            "miscellaneous\n",
            "4\n",
            "transport\n",
            "5\n",
            "Grocery\n",
            "6\n",
            "fuel\n",
            "7\n",
            "taxi\n",
            "8\n",
            "Airfare\n"
          ],
          "name": "stdout"
        }
      ]
    },
    {
      "metadata": {
        "id": "9Uj5jPMp4pRc",
        "colab_type": "code",
        "colab": {
          "base_uri": "https://localhost:8080/",
          "height": 187
        },
        "outputId": "5068e975-58bf-4f54-a05f-9018b584a6e5"
      },
      "cell_type": "code",
      "source": [
        "train_all.Catergory_int_enocde.value_counts()"
      ],
      "execution_count": 55,
      "outputs": [
        {
          "output_type": "execute_result",
          "data": {
            "text/plain": [
              "0    288\n",
              "5    225\n",
              "7    203\n",
              "8    201\n",
              "3    188\n",
              "1     73\n",
              "6     41\n",
              "4     39\n",
              "2     28\n",
              "Name: Catergory, dtype: int64"
            ]
          },
          "metadata": {
            "tags": []
          },
          "execution_count": 55
        }
      ]
    },
    {
      "metadata": {
        "id": "kccqTPEeDgmR",
        "colab_type": "code",
        "colab": {
          "base_uri": "https://localhost:8080/",
          "height": 170
        },
        "outputId": "f7609d28-f298-4177-bf01-ef371e28c640"
      },
      "cell_type": "code",
      "source": [
        "category_int_encode"
      ],
      "execution_count": 56,
      "outputs": [
        {
          "output_type": "execute_result",
          "data": {
            "text/plain": [
              "{'0': 'meal',\n",
              " '1': 'parking',\n",
              " '2': 'hotel',\n",
              " '3': 'miscellaneous',\n",
              " '4': 'transport',\n",
              " '5': 'Grocery',\n",
              " '6': 'fuel',\n",
              " '7': 'taxi',\n",
              " '8': 'Airfare'}"
            ]
          },
          "metadata": {
            "tags": []
          },
          "execution_count": 56
        }
      ]
    },
    {
      "metadata": {
        "id": "9srSklpw11iB",
        "colab_type": "code",
        "colab": {}
      },
      "cell_type": "code",
      "source": [
        "from keras.utils import to_categorical"
      ],
      "execution_count": 0,
      "outputs": []
    },
    {
      "metadata": {
        "id": "W62RZJnF179N",
        "colab_type": "code",
        "colab": {}
      },
      "cell_type": "code",
      "source": [
        "def encode(data):\n",
        "    print('Shape of data (BEFORE encode): %s' % str(data.shape))\n",
        "    encoded = to_categorical(data)\n",
        "    print('Shape of data (AFTER  encode): %s\\n' % str(encoded.shape))\n",
        "    return encoded"
      ],
      "execution_count": 0,
      "outputs": []
    },
    {
      "metadata": {
        "id": "F3wtcAKN2AK5",
        "colab_type": "code",
        "colab": {
          "base_uri": "https://localhost:8080/",
          "height": 187
        },
        "outputId": "73cd2009-b341-4351-a20a-a0d36ecc87d9"
      },
      "cell_type": "code",
      "source": [
        "encoded_data = encode(train_all.Catergory_int_enocde)\n",
        "print(encoded_data)"
      ],
      "execution_count": 59,
      "outputs": [
        {
          "output_type": "stream",
          "text": [
            "Shape of data (BEFORE encode): (1286,)\n",
            "Shape of data (AFTER  encode): (1286, 9)\n",
            "\n",
            "[[1. 0. 0. ... 0. 0. 0.]\n",
            " [0. 1. 0. ... 0. 0. 0.]\n",
            " [1. 0. 0. ... 0. 0. 0.]\n",
            " ...\n",
            " [0. 0. 0. ... 0. 0. 1.]\n",
            " [0. 0. 0. ... 0. 0. 1.]\n",
            " [0. 0. 0. ... 0. 0. 1.]]\n"
          ],
          "name": "stdout"
        }
      ]
    },
    {
      "metadata": {
        "id": "8ngxfLbwE-Tr",
        "colab_type": "code",
        "colab": {}
      },
      "cell_type": "code",
      "source": [
        "encoded_data = pd.DataFrame(encoded_data)"
      ],
      "execution_count": 0,
      "outputs": []
    },
    {
      "metadata": {
        "id": "o9fUG6GGFF8i",
        "colab_type": "code",
        "colab": {
          "base_uri": "https://localhost:8080/",
          "height": 297
        },
        "outputId": "c5f0ec73-d765-48a0-e81e-5fb73b50f09d"
      },
      "cell_type": "code",
      "source": [
        "encoded_data.describe()"
      ],
      "execution_count": 61,
      "outputs": [
        {
          "output_type": "execute_result",
          "data": {
            "text/html": [
              "<div>\n",
              "<style scoped>\n",
              "    .dataframe tbody tr th:only-of-type {\n",
              "        vertical-align: middle;\n",
              "    }\n",
              "\n",
              "    .dataframe tbody tr th {\n",
              "        vertical-align: top;\n",
              "    }\n",
              "\n",
              "    .dataframe thead th {\n",
              "        text-align: right;\n",
              "    }\n",
              "</style>\n",
              "<table border=\"1\" class=\"dataframe\">\n",
              "  <thead>\n",
              "    <tr style=\"text-align: right;\">\n",
              "      <th></th>\n",
              "      <th>0</th>\n",
              "      <th>1</th>\n",
              "      <th>2</th>\n",
              "      <th>3</th>\n",
              "      <th>4</th>\n",
              "      <th>5</th>\n",
              "      <th>6</th>\n",
              "      <th>7</th>\n",
              "      <th>8</th>\n",
              "    </tr>\n",
              "  </thead>\n",
              "  <tbody>\n",
              "    <tr>\n",
              "      <th>count</th>\n",
              "      <td>1286.000000</td>\n",
              "      <td>1286.000000</td>\n",
              "      <td>1286.000000</td>\n",
              "      <td>1286.000000</td>\n",
              "      <td>1286.000000</td>\n",
              "      <td>1286.000000</td>\n",
              "      <td>1286.000000</td>\n",
              "      <td>1286.000000</td>\n",
              "      <td>1286.000000</td>\n",
              "    </tr>\n",
              "    <tr>\n",
              "      <th>mean</th>\n",
              "      <td>0.223950</td>\n",
              "      <td>0.056765</td>\n",
              "      <td>0.021773</td>\n",
              "      <td>0.146190</td>\n",
              "      <td>0.030327</td>\n",
              "      <td>0.174961</td>\n",
              "      <td>0.031882</td>\n",
              "      <td>0.157854</td>\n",
              "      <td>0.156299</td>\n",
              "    </tr>\n",
              "    <tr>\n",
              "      <th>std</th>\n",
              "      <td>0.417051</td>\n",
              "      <td>0.231483</td>\n",
              "      <td>0.145998</td>\n",
              "      <td>0.353434</td>\n",
              "      <td>0.171551</td>\n",
              "      <td>0.380082</td>\n",
              "      <td>0.175754</td>\n",
              "      <td>0.364746</td>\n",
              "      <td>0.363279</td>\n",
              "    </tr>\n",
              "    <tr>\n",
              "      <th>min</th>\n",
              "      <td>0.000000</td>\n",
              "      <td>0.000000</td>\n",
              "      <td>0.000000</td>\n",
              "      <td>0.000000</td>\n",
              "      <td>0.000000</td>\n",
              "      <td>0.000000</td>\n",
              "      <td>0.000000</td>\n",
              "      <td>0.000000</td>\n",
              "      <td>0.000000</td>\n",
              "    </tr>\n",
              "    <tr>\n",
              "      <th>25%</th>\n",
              "      <td>0.000000</td>\n",
              "      <td>0.000000</td>\n",
              "      <td>0.000000</td>\n",
              "      <td>0.000000</td>\n",
              "      <td>0.000000</td>\n",
              "      <td>0.000000</td>\n",
              "      <td>0.000000</td>\n",
              "      <td>0.000000</td>\n",
              "      <td>0.000000</td>\n",
              "    </tr>\n",
              "    <tr>\n",
              "      <th>50%</th>\n",
              "      <td>0.000000</td>\n",
              "      <td>0.000000</td>\n",
              "      <td>0.000000</td>\n",
              "      <td>0.000000</td>\n",
              "      <td>0.000000</td>\n",
              "      <td>0.000000</td>\n",
              "      <td>0.000000</td>\n",
              "      <td>0.000000</td>\n",
              "      <td>0.000000</td>\n",
              "    </tr>\n",
              "    <tr>\n",
              "      <th>75%</th>\n",
              "      <td>0.000000</td>\n",
              "      <td>0.000000</td>\n",
              "      <td>0.000000</td>\n",
              "      <td>0.000000</td>\n",
              "      <td>0.000000</td>\n",
              "      <td>0.000000</td>\n",
              "      <td>0.000000</td>\n",
              "      <td>0.000000</td>\n",
              "      <td>0.000000</td>\n",
              "    </tr>\n",
              "    <tr>\n",
              "      <th>max</th>\n",
              "      <td>1.000000</td>\n",
              "      <td>1.000000</td>\n",
              "      <td>1.000000</td>\n",
              "      <td>1.000000</td>\n",
              "      <td>1.000000</td>\n",
              "      <td>1.000000</td>\n",
              "      <td>1.000000</td>\n",
              "      <td>1.000000</td>\n",
              "      <td>1.000000</td>\n",
              "    </tr>\n",
              "  </tbody>\n",
              "</table>\n",
              "</div>"
            ],
            "text/plain": [
              "                 0            1            2            3            4  \\\n",
              "count  1286.000000  1286.000000  1286.000000  1286.000000  1286.000000   \n",
              "mean      0.223950     0.056765     0.021773     0.146190     0.030327   \n",
              "std       0.417051     0.231483     0.145998     0.353434     0.171551   \n",
              "min       0.000000     0.000000     0.000000     0.000000     0.000000   \n",
              "25%       0.000000     0.000000     0.000000     0.000000     0.000000   \n",
              "50%       0.000000     0.000000     0.000000     0.000000     0.000000   \n",
              "75%       0.000000     0.000000     0.000000     0.000000     0.000000   \n",
              "max       1.000000     1.000000     1.000000     1.000000     1.000000   \n",
              "\n",
              "                 5            6            7            8  \n",
              "count  1286.000000  1286.000000  1286.000000  1286.000000  \n",
              "mean      0.174961     0.031882     0.157854     0.156299  \n",
              "std       0.380082     0.175754     0.364746     0.363279  \n",
              "min       0.000000     0.000000     0.000000     0.000000  \n",
              "25%       0.000000     0.000000     0.000000     0.000000  \n",
              "50%       0.000000     0.000000     0.000000     0.000000  \n",
              "75%       0.000000     0.000000     0.000000     0.000000  \n",
              "max       1.000000     1.000000     1.000000     1.000000  "
            ]
          },
          "metadata": {
            "tags": []
          },
          "execution_count": 61
        }
      ]
    },
    {
      "metadata": {
        "id": "yJ4n1uxKFx-s",
        "colab_type": "code",
        "colab": {}
      },
      "cell_type": "code",
      "source": [
        "train_all = pd.concat([train_all,encoded_data],axis = 1)"
      ],
      "execution_count": 0,
      "outputs": []
    },
    {
      "metadata": {
        "id": "O8PudxLSGCp1",
        "colab_type": "code",
        "colab": {
          "base_uri": "https://localhost:8080/",
          "height": 204
        },
        "outputId": "1f30532c-c45f-4058-c942-9378e69c0ac6"
      },
      "cell_type": "code",
      "source": [
        "train_all.head()"
      ],
      "execution_count": 63,
      "outputs": [
        {
          "output_type": "execute_result",
          "data": {
            "text/html": [
              "<div>\n",
              "<style scoped>\n",
              "    .dataframe tbody tr th:only-of-type {\n",
              "        vertical-align: middle;\n",
              "    }\n",
              "\n",
              "    .dataframe tbody tr th {\n",
              "        vertical-align: top;\n",
              "    }\n",
              "\n",
              "    .dataframe thead th {\n",
              "        text-align: right;\n",
              "    }\n",
              "</style>\n",
              "<table border=\"1\" class=\"dataframe\">\n",
              "  <thead>\n",
              "    <tr style=\"text-align: right;\">\n",
              "      <th></th>\n",
              "      <th>Unnamed: 0</th>\n",
              "      <th>raw_text</th>\n",
              "      <th>Catergory</th>\n",
              "      <th>s3imagepath</th>\n",
              "      <th>0</th>\n",
              "      <th>1</th>\n",
              "      <th>2</th>\n",
              "      <th>3</th>\n",
              "      <th>4</th>\n",
              "      <th>5</th>\n",
              "      <th>6</th>\n",
              "      <th>7</th>\n",
              "      <th>8</th>\n",
              "    </tr>\n",
              "  </thead>\n",
              "  <tbody>\n",
              "    <tr>\n",
              "      <th>0</th>\n",
              "      <td>0</td>\n",
              "      <td>Het Klooster\\n Hotel-Brasserie-B&amp;B\\nOnderwijsl...</td>\n",
              "      <td>0</td>\n",
              "      <td>http://s3-us-west-2.amazonaws.com/gimlet-stagi...</td>\n",
              "      <td>1.0</td>\n",
              "      <td>0.0</td>\n",
              "      <td>0.0</td>\n",
              "      <td>0.0</td>\n",
              "      <td>0.0</td>\n",
              "      <td>0.0</td>\n",
              "      <td>0.0</td>\n",
              "      <td>0.0</td>\n",
              "      <td>0.0</td>\n",
              "    </tr>\n",
              "    <tr>\n",
              "      <th>1</th>\n",
              "      <td>1</td>\n",
              "      <td>Parking Cantecleer\\n Vilvoorde\\n\\n\\n\\n\\n Binne...</td>\n",
              "      <td>1</td>\n",
              "      <td>http://s3-us-west-2.amazonaws.com/gimlet-stagi...</td>\n",
              "      <td>0.0</td>\n",
              "      <td>1.0</td>\n",
              "      <td>0.0</td>\n",
              "      <td>0.0</td>\n",
              "      <td>0.0</td>\n",
              "      <td>0.0</td>\n",
              "      <td>0.0</td>\n",
              "      <td>0.0</td>\n",
              "      <td>0.0</td>\n",
              "    </tr>\n",
              "    <tr>\n",
              "      <th>2</th>\n",
              "      <td>2</td>\n",
              "      <td>You can win everyweek one\\n jood? SamsungGALAX...</td>\n",
              "      <td>0</td>\n",
              "      <td>http://s3-us-west-2.amazonaws.com/gimlet-stagi...</td>\n",
              "      <td>1.0</td>\n",
              "      <td>0.0</td>\n",
              "      <td>0.0</td>\n",
              "      <td>0.0</td>\n",
              "      <td>0.0</td>\n",
              "      <td>0.0</td>\n",
              "      <td>0.0</td>\n",
              "      <td>0.0</td>\n",
              "      <td>0.0</td>\n",
              "    </tr>\n",
              "    <tr>\n",
              "      <th>3</th>\n",
              "      <td>3</td>\n",
              "      <td>my hotel\\n CARD SALE VOUCHER\\n Table BBC CUSTO...</td>\n",
              "      <td>2</td>\n",
              "      <td>http://s3-us-west-2.amazonaws.com/gimlet-stagi...</td>\n",
              "      <td>0.0</td>\n",
              "      <td>0.0</td>\n",
              "      <td>1.0</td>\n",
              "      <td>0.0</td>\n",
              "      <td>0.0</td>\n",
              "      <td>0.0</td>\n",
              "      <td>0.0</td>\n",
              "      <td>0.0</td>\n",
              "      <td>0.0</td>\n",
              "    </tr>\n",
              "    <tr>\n",
              "      <th>4</th>\n",
              "      <td>4</td>\n",
              "      <td>KEN ANTWERPEN\\n 2000\\nTERMINAL:01563106\\nPER.:...</td>\n",
              "      <td>3</td>\n",
              "      <td>http://s3-us-west-2.amazonaws.com/gimlet-stagi...</td>\n",
              "      <td>0.0</td>\n",
              "      <td>0.0</td>\n",
              "      <td>0.0</td>\n",
              "      <td>1.0</td>\n",
              "      <td>0.0</td>\n",
              "      <td>0.0</td>\n",
              "      <td>0.0</td>\n",
              "      <td>0.0</td>\n",
              "      <td>0.0</td>\n",
              "    </tr>\n",
              "  </tbody>\n",
              "</table>\n",
              "</div>"
            ],
            "text/plain": [
              "   Unnamed: 0                                           raw_text Catergory  \\\n",
              "0           0  Het Klooster\\n Hotel-Brasserie-B&B\\nOnderwijsl...         0   \n",
              "1           1  Parking Cantecleer\\n Vilvoorde\\n\\n\\n\\n\\n Binne...         1   \n",
              "2           2  You can win everyweek one\\n jood? SamsungGALAX...         0   \n",
              "3           3  my hotel\\n CARD SALE VOUCHER\\n Table BBC CUSTO...         2   \n",
              "4           4  KEN ANTWERPEN\\n 2000\\nTERMINAL:01563106\\nPER.:...         3   \n",
              "\n",
              "                                         s3imagepath    0    1    2    3    4  \\\n",
              "0  http://s3-us-west-2.amazonaws.com/gimlet-stagi...  1.0  0.0  0.0  0.0  0.0   \n",
              "1  http://s3-us-west-2.amazonaws.com/gimlet-stagi...  0.0  1.0  0.0  0.0  0.0   \n",
              "2  http://s3-us-west-2.amazonaws.com/gimlet-stagi...  1.0  0.0  0.0  0.0  0.0   \n",
              "3  http://s3-us-west-2.amazonaws.com/gimlet-stagi...  0.0  0.0  1.0  0.0  0.0   \n",
              "4  http://s3-us-west-2.amazonaws.com/gimlet-stagi...  0.0  0.0  0.0  1.0  0.0   \n",
              "\n",
              "     5    6    7    8  \n",
              "0  0.0  0.0  0.0  0.0  \n",
              "1  0.0  0.0  0.0  0.0  \n",
              "2  0.0  0.0  0.0  0.0  \n",
              "3  0.0  0.0  0.0  0.0  \n",
              "4  0.0  0.0  0.0  0.0  "
            ]
          },
          "metadata": {
            "tags": []
          },
          "execution_count": 63
        }
      ]
    },
    {
      "metadata": {
        "id": "DvA0MyUDiW1k",
        "colab_type": "code",
        "colab": {}
      },
      "cell_type": "code",
      "source": [
        "np.random.seed(10)\n",
        "train_index  = np.random.choice(train_all.shape[0],np.int16(train_all.shape[0] * .98))\n",
        "test_index = train.index.isin(train_index)"
      ],
      "execution_count": 0,
      "outputs": []
    },
    {
      "metadata": {
        "id": "l0naplcSESkr",
        "colab_type": "code",
        "colab": {
          "base_uri": "https://localhost:8080/",
          "height": 68
        },
        "outputId": "f385d524-4651-4d93-f6ae-653aa4ada075"
      },
      "cell_type": "code",
      "source": [
        "train_all.columns"
      ],
      "execution_count": 65,
      "outputs": [
        {
          "output_type": "execute_result",
          "data": {
            "text/plain": [
              "Index(['Unnamed: 0', 'raw_text', 'Catergory', 's3imagepath', 0, 1, 2, 3, 4, 5,\n",
              "       6, 7, 8],\n",
              "      dtype='object')"
            ]
          },
          "metadata": {
            "tags": []
          },
          "execution_count": 65
        }
      ]
    },
    {
      "metadata": {
        "id": "OdIPt6W2G3R7",
        "colab_type": "code",
        "colab": {
          "base_uri": "https://localhost:8080/",
          "height": 34
        },
        "outputId": "056c93a8-d628-4c5e-e853-d59fac0c36a3"
      },
      "cell_type": "code",
      "source": [
        "[1,list(np.arange(5,14))]"
      ],
      "execution_count": 66,
      "outputs": [
        {
          "output_type": "execute_result",
          "data": {
            "text/plain": [
              "[1, [5, 6, 7, 8, 9, 10, 11, 12, 13]]"
            ]
          },
          "metadata": {
            "tags": []
          },
          "execution_count": 66
        }
      ]
    },
    {
      "metadata": {
        "id": "ghKwN1OXi1x5",
        "colab_type": "code",
        "colab": {}
      },
      "cell_type": "code",
      "source": [
        "train = train_all.iloc[train_index,[1,4,5, 6, 7, 8, 9, 10, 11, 12]]\n",
        "test = train_all.iloc[~test_index,[1,4,5, 6, 7, 8, 9, 10, 11, 12]]"
      ],
      "execution_count": 0,
      "outputs": []
    },
    {
      "metadata": {
        "id": "cfrJFoGcjE5k",
        "colab_type": "code",
        "colab": {
          "base_uri": "https://localhost:8080/",
          "height": 34
        },
        "outputId": "0c6b7c65-2176-49de-c2c6-4055e576f7b3"
      },
      "cell_type": "code",
      "source": [
        "train.shape"
      ],
      "execution_count": 68,
      "outputs": [
        {
          "output_type": "execute_result",
          "data": {
            "text/plain": [
              "(1260, 10)"
            ]
          },
          "metadata": {
            "tags": []
          },
          "execution_count": 68
        }
      ]
    },
    {
      "metadata": {
        "id": "Z5tnXrfqjInd",
        "colab_type": "code",
        "colab": {
          "base_uri": "https://localhost:8080/",
          "height": 34
        },
        "outputId": "8240c137-8bd1-4ea8-81c7-5228ec63c764"
      },
      "cell_type": "code",
      "source": [
        "test.shape"
      ],
      "execution_count": 69,
      "outputs": [
        {
          "output_type": "execute_result",
          "data": {
            "text/plain": [
              "(237, 10)"
            ]
          },
          "metadata": {
            "tags": []
          },
          "execution_count": 69
        }
      ]
    },
    {
      "metadata": {
        "id": "xsE_a7ioiua4",
        "colab_type": "code",
        "colab": {
          "base_uri": "https://localhost:8080/",
          "height": 297
        },
        "outputId": "23885443-943e-42eb-9dd4-f45f9e72b906"
      },
      "cell_type": "code",
      "source": [
        "test.describe()"
      ],
      "execution_count": 70,
      "outputs": [
        {
          "output_type": "execute_result",
          "data": {
            "text/html": [
              "<div>\n",
              "<style scoped>\n",
              "    .dataframe tbody tr th:only-of-type {\n",
              "        vertical-align: middle;\n",
              "    }\n",
              "\n",
              "    .dataframe tbody tr th {\n",
              "        vertical-align: top;\n",
              "    }\n",
              "\n",
              "    .dataframe thead th {\n",
              "        text-align: right;\n",
              "    }\n",
              "</style>\n",
              "<table border=\"1\" class=\"dataframe\">\n",
              "  <thead>\n",
              "    <tr style=\"text-align: right;\">\n",
              "      <th></th>\n",
              "      <th>0</th>\n",
              "      <th>1</th>\n",
              "      <th>2</th>\n",
              "      <th>3</th>\n",
              "      <th>4</th>\n",
              "      <th>5</th>\n",
              "      <th>6</th>\n",
              "      <th>7</th>\n",
              "      <th>8</th>\n",
              "    </tr>\n",
              "  </thead>\n",
              "  <tbody>\n",
              "    <tr>\n",
              "      <th>count</th>\n",
              "      <td>237.000000</td>\n",
              "      <td>237.000000</td>\n",
              "      <td>237.000000</td>\n",
              "      <td>237.000000</td>\n",
              "      <td>237.000000</td>\n",
              "      <td>237.000000</td>\n",
              "      <td>237.000000</td>\n",
              "      <td>237.0</td>\n",
              "      <td>237.000000</td>\n",
              "    </tr>\n",
              "    <tr>\n",
              "      <th>mean</th>\n",
              "      <td>0.362869</td>\n",
              "      <td>0.101266</td>\n",
              "      <td>0.033755</td>\n",
              "      <td>0.320675</td>\n",
              "      <td>0.054852</td>\n",
              "      <td>0.046414</td>\n",
              "      <td>0.075949</td>\n",
              "      <td>0.0</td>\n",
              "      <td>0.004219</td>\n",
              "    </tr>\n",
              "    <tr>\n",
              "      <th>std</th>\n",
              "      <td>0.481845</td>\n",
              "      <td>0.302319</td>\n",
              "      <td>0.180981</td>\n",
              "      <td>0.467724</td>\n",
              "      <td>0.228174</td>\n",
              "      <td>0.210824</td>\n",
              "      <td>0.265478</td>\n",
              "      <td>0.0</td>\n",
              "      <td>0.064957</td>\n",
              "    </tr>\n",
              "    <tr>\n",
              "      <th>min</th>\n",
              "      <td>0.000000</td>\n",
              "      <td>0.000000</td>\n",
              "      <td>0.000000</td>\n",
              "      <td>0.000000</td>\n",
              "      <td>0.000000</td>\n",
              "      <td>0.000000</td>\n",
              "      <td>0.000000</td>\n",
              "      <td>0.0</td>\n",
              "      <td>0.000000</td>\n",
              "    </tr>\n",
              "    <tr>\n",
              "      <th>25%</th>\n",
              "      <td>0.000000</td>\n",
              "      <td>0.000000</td>\n",
              "      <td>0.000000</td>\n",
              "      <td>0.000000</td>\n",
              "      <td>0.000000</td>\n",
              "      <td>0.000000</td>\n",
              "      <td>0.000000</td>\n",
              "      <td>0.0</td>\n",
              "      <td>0.000000</td>\n",
              "    </tr>\n",
              "    <tr>\n",
              "      <th>50%</th>\n",
              "      <td>0.000000</td>\n",
              "      <td>0.000000</td>\n",
              "      <td>0.000000</td>\n",
              "      <td>0.000000</td>\n",
              "      <td>0.000000</td>\n",
              "      <td>0.000000</td>\n",
              "      <td>0.000000</td>\n",
              "      <td>0.0</td>\n",
              "      <td>0.000000</td>\n",
              "    </tr>\n",
              "    <tr>\n",
              "      <th>75%</th>\n",
              "      <td>1.000000</td>\n",
              "      <td>0.000000</td>\n",
              "      <td>0.000000</td>\n",
              "      <td>1.000000</td>\n",
              "      <td>0.000000</td>\n",
              "      <td>0.000000</td>\n",
              "      <td>0.000000</td>\n",
              "      <td>0.0</td>\n",
              "      <td>0.000000</td>\n",
              "    </tr>\n",
              "    <tr>\n",
              "      <th>max</th>\n",
              "      <td>1.000000</td>\n",
              "      <td>1.000000</td>\n",
              "      <td>1.000000</td>\n",
              "      <td>1.000000</td>\n",
              "      <td>1.000000</td>\n",
              "      <td>1.000000</td>\n",
              "      <td>1.000000</td>\n",
              "      <td>0.0</td>\n",
              "      <td>1.000000</td>\n",
              "    </tr>\n",
              "  </tbody>\n",
              "</table>\n",
              "</div>"
            ],
            "text/plain": [
              "                0           1           2           3           4           5  \\\n",
              "count  237.000000  237.000000  237.000000  237.000000  237.000000  237.000000   \n",
              "mean     0.362869    0.101266    0.033755    0.320675    0.054852    0.046414   \n",
              "std      0.481845    0.302319    0.180981    0.467724    0.228174    0.210824   \n",
              "min      0.000000    0.000000    0.000000    0.000000    0.000000    0.000000   \n",
              "25%      0.000000    0.000000    0.000000    0.000000    0.000000    0.000000   \n",
              "50%      0.000000    0.000000    0.000000    0.000000    0.000000    0.000000   \n",
              "75%      1.000000    0.000000    0.000000    1.000000    0.000000    0.000000   \n",
              "max      1.000000    1.000000    1.000000    1.000000    1.000000    1.000000   \n",
              "\n",
              "                6      7           8  \n",
              "count  237.000000  237.0  237.000000  \n",
              "mean     0.075949    0.0    0.004219  \n",
              "std      0.265478    0.0    0.064957  \n",
              "min      0.000000    0.0    0.000000  \n",
              "25%      0.000000    0.0    0.000000  \n",
              "50%      0.000000    0.0    0.000000  \n",
              "75%      0.000000    0.0    0.000000  \n",
              "max      1.000000    0.0    1.000000  "
            ]
          },
          "metadata": {
            "tags": []
          },
          "execution_count": 70
        }
      ]
    },
    {
      "metadata": {
        "id": "6z7rp47OkwhL",
        "colab_type": "code",
        "colab": {}
      },
      "cell_type": "code",
      "source": [
        "train.to_csv('train.csv')\n",
        "test.to_csv('test.csv')"
      ],
      "execution_count": 0,
      "outputs": []
    },
    {
      "metadata": {
        "id": "pr3I8JI99weI",
        "colab_type": "code",
        "colab": {}
      },
      "cell_type": "code",
      "source": [
        "#len(ALPHABET)=68\n",
        "#ALPHABET = 'abcdefghijklmnopqrstuvwxyz0123456789-,;.!?:’\"/|_#$%ˆ&*˜‘+=<>()[]{} '\n",
        "FEATURE_LEN = 1024*6 #maxlen\n",
        "path = '/content/data/'\n",
        "TRAIN_DATA_FILE=path+'train.csv'\n",
        "TEST_DATA_FILE=path+'test.csv'"
      ],
      "execution_count": 0,
      "outputs": []
    },
    {
      "metadata": {
        "id": "yBDlZ86XlECU",
        "colab_type": "code",
        "colab": {}
      },
      "cell_type": "code",
      "source": [
        "def get_char_dict():\n",
        "    char_dict={}\n",
        "    for i,c in enumerate(ALPHABET):\n",
        "        char_dict[c]=i+1\n",
        "    return char_dict\n",
        "\n",
        "def char2vec(text, max_length=FEATURE_LEN):\n",
        "    char_dict = get_char_dict()\n",
        "    data=np.zeros(max_length)\n",
        "    \n",
        "    for i in range(0, len(text)):\n",
        "        if i >= max_length:\n",
        "            return data\n",
        "        \n",
        "        elif text[i] in char_dict:\n",
        "            data[i] = char_dict[text[i]]\n",
        "        \n",
        "        else:\n",
        "            data[i]=68\n",
        "    return data\n",
        "    \n",
        "\n",
        "def conv_shape(conv):\n",
        "    return conv.get_shape().as_list()[1:]\n",
        "\n",
        "replace_ip=re.compile(r'([0-9]+)(?:\\.[0-9]+){3}',)\n",
        "def text_to_wordlist(text, remove_stopwords=True, stem_words=False):\n",
        "    # Clean the text, with the option to remove stopwords and to stem words.\n",
        "    \n",
        "    # Convert words to lower case and split them\n",
        "    text = text.lower().split()\n",
        "    \n",
        "    \n",
        "    \n",
        "    # Optionally, remove stop words\n",
        "    if remove_stopwords:\n",
        "        stops = set(stopwords.words(\"english\"))\n",
        "        text = [w for w in text if not w in stops]\n",
        "    \n",
        "    text = \" \".join(text)\n",
        "    \n",
        "    \n",
        "    #Replace IP address\n",
        "    text=replace_ip.sub('',text)\n",
        "    \n",
        "    \n",
        "    # Optionally, shorten words to their stems\n",
        "    if stem_words:\n",
        "        text = text.split()\n",
        "        stemmer = SnowballStemmer('english')\n",
        "        stemmed_words = [stemmer.stem(word) for word in text]\n",
        "        text = \" \".join(stemmed_words)\n",
        "    \n",
        "    # Return a list of words\n",
        "    return(text)\n"
      ],
      "execution_count": 0,
      "outputs": []
    },
    {
      "metadata": {
        "id": "ZR2TK4hdlP9g",
        "colab_type": "code",
        "colab": {
          "base_uri": "https://localhost:8080/",
          "height": 68
        },
        "outputId": "40fa955c-bc67-4511-cbef-c50b5d0ef6c8"
      },
      "cell_type": "code",
      "source": [
        "import nltk\n",
        "nltk.download('stopwords')"
      ],
      "execution_count": 0,
      "outputs": [
        {
          "output_type": "stream",
          "text": [
            "[nltk_data] Downloading package stopwords to /content/nltk_data...\n",
            "[nltk_data]   Unzipping corpora/stopwords.zip.\n"
          ],
          "name": "stdout"
        },
        {
          "output_type": "execute_result",
          "data": {
            "text/plain": [
              "True"
            ]
          },
          "metadata": {
            "tags": []
          },
          "execution_count": 44
        }
      ]
    },
    {
      "metadata": {
        "id": "kWu-UnS0lWPR",
        "colab_type": "code",
        "colab": {}
      },
      "cell_type": "code",
      "source": [
        "train_df = pd.read_csv(TRAIN_DATA_FILE)\n",
        "test_df = pd.read_csv(TEST_DATA_FILE)"
      ],
      "execution_count": 0,
      "outputs": []
    },
    {
      "metadata": {
        "id": "qB3pt4sUlaxF",
        "colab_type": "code",
        "colab": {}
      },
      "cell_type": "code",
      "source": [
        "list_sentences_train = train_df[\"raw_text\"].fillna(\"NA\").values"
      ],
      "execution_count": 0,
      "outputs": []
    },
    {
      "metadata": {
        "id": "WtTmhOH5jG9E",
        "colab_type": "code",
        "colab": {
          "base_uri": "https://localhost:8080/",
          "height": 142
        },
        "outputId": "773d0c04-e35f-43c4-b8d0-c8decf12874c"
      },
      "cell_type": "code",
      "source": [
        "list_sentences_train[:4]"
      ],
      "execution_count": 76,
      "outputs": [
        {
          "output_type": "execute_result",
          "data": {
            "text/plain": [
              "array(['   DB                                       Online-Ticket                    VIETA\\r\\n\\r\\n\\r\\nICE  Fahrkarte                                                                     knicken!\\r\\n Fahrtantrittam  06.06.2018  oreis  06.05.comICECE2KG                         nicht\\r\\n                                  moengGoleston\\r\\n Flexpreis  (EinfacheneFahrtFahrt))    is06Solingen.06.2016    2KKLEINETNO                      bitte\\r\\n  Klasse:     2   2KL1  Erw.  Numberg      2017SOUMS\\r\\n          061187GOUMEFlexpreis  06.06.     CEK     E                           Barcode\\r\\n         .              Erw            Solingen    GOMEN\\r\\n    W:0           KI1     .        era\\r\\n Hinfahrt:   Nürnberg   >   Solingen,  mitICE     BEW\\r\\n  Über:  06   VIA:(AN/FUE)*WUE*(DA*MZ/F)*LM*K*D\\r\\n Umtausch/Erstattungkostenlos  bis  1  Tagvor  Reiseantritt(Hinfahrt).     SO\\r\\n\\r\\n City   mobil\\r\\n  Gültigkeit:06.06.2018,  Klasse:  2,  Erw.1.2.che  74  PYDIS\\r\\nEgebiet  Verkehrsverbund  Rhein-Ruhr(VRR),TAGESKARTE                    Hinfahrt:\\r\\n (VAR)   Solingen,  Tarifgebiet74,  Preisstufe  A2         A   E                        Gültigab:       06.06.2018     ME\\r\\n Porn  87  Giltfür  beliebigviele  Fahrtenamangegebenen  Geltungstagbis\\r\\n          Betriebsschluss,imSchienenverkehr  bis  03:00  Uhrdes  Folgetagesim                                                Zangenabdruck\\r\\n   VRR     Anschluss  bzw.vor  Antritt  einer  Reise  mit  der  Bahn  nurin  Verbindung  mit\\r\\n          einer  Bahnfahrkartein  allen  Verkehrsmittelninnerhalb  des  obena    SRL         Herr   Timo  Hilbertz\\r\\n                                                                                      Auftragsnummer:                 7GOUME\\r\\n Zahlungspositionen  und  Preis\\r\\n  Positionen                   Preis       MwSt(  D)19  %          MwSt(D)7  %\\r\\n ICE  Fahrkarte         1     123,00€     123,00€      19,64€\\r\\n  City-Mobil                    7,00€                              7,00€       0,46€\\r\\n  Reservierung       1        4   ,50€4    ,50€       0.72€\\r\\n  Summe                    134,50€     127,50€      20,36€       7,00€       0,46€\\r\\n  Kreditkartenzahlung\\r\\n  Betrag     134,50€        VU-Nr      4556695619    Transaktions-Nr     931003\\r\\n  Datum     06.06.2018      Gen-Nr     863291\\r\\n  Ihre  Kreditkarte  wurde  mitdemoben  genannten  Betrag  belastet.  Die  BuchungIhres\\r\\n  Online-Tickets  erfolgteam  06.06.201813:10  Uhr.  DB  FernverkehrAG/DB  Regio  AG,\\r\\n |  Stephensonstr.  1,60326  Frankfurt,  Steuernummer:29/001/60002.\\r\\n\\r\\n Ihre  Reiseverbindungund  Reservierung  Hinfahrtam06.06.2018\\r\\n Halt                                Datum   Zeit        Gleis       Produkte     Reservierung\\r\\n  Nürnberg  Hbf                      06.06.    ab  17:00   6           ICE  620       1  Sitzplatz,  Wg.27,  PI.72,  1  Fenster,\\r\\n  Düsseldorf  Hbf                     06.06.    an20:47  18                         Nichtraucher,Handy,Res.Nr.8003  70133033  37\\r\\n  Düsseldorf  Hbf                     06.06.    ab  20:55  11          S1\\r\\n  Solingen  Hbf                       06.06.    an21:17  10\\r\\n  Solingen  Hbf                       06.06.    ab21:22   9            ABR  S7\\r\\n  Solingen  Mitte                      06.06.    an21:30  1\\r\\n\\r\\n  Wichtige  Nutzungshinweise:\\r\\n  -  Ihre  Fahrkarte  giltnurzusammen  miteinemamtlichen  Lichtbildausweis  (z.B.  Personalausweis)oderIhrer  BahnCard.\\r\\n  -  MitIhrer  Fahrkarte  zum  Flexpreis  können  Sie  jedenZugdergewählten  Verbindungnutzen:  mit  einerIC/EC-Fahrkarte  alleIC-und  EC-Züge,  mit\\r\\n    einerICE-Fahrkarteauch  alle  anderenZüge.\\r\\n  -  Das  Online-Ticketgiltnurfürdenunter\"Fahrkarte\"angegebenenReiseabschnitt.  Die  Übersicht\"Ihre  Reiseverbindung\"enthältgegebenenfalls\\r\\n    ReiseinformationenzuTeilstrecken(z.B.  Bus  oder  Straßenbahn),für  die  eine  weitere  Fahrkarte  erforderlich  sein  kann.\\r\\n  -   WennIhr  Ticket  denZusatz  \"+  City\"oder\"  City  mobil\"  zeigt,  gilt  diesernuramTag  der  Hinfahrtbzw.amTag  der  Rückfahrt.\\r\\n  -   Esgelten  die  nationalen  undinternationalen  Beförderungsbedingungender  DB  AG.Innerhalbvon  Verkehrsverbünden  undTarifgemeinschaften\\r\\n    gelten  deren  Bedingungen.  Alle  Bedingungenfinden  Sie  unter:www.bahn.de/agbundwww.diebefoerderer.de.\\r\\n Ihre  Reisedatenkönnen  sich  kurzfristig  durch  Bauarbeitenoderandere  erforderlicheFahrplananpassungen  ändern.\\r\\n  Bitteinformieren  Sie  sichkurzvorIhrer  Reise  über  mögliche  ÄnderungenIhrer  Reisedatenunter  www.bahn.de/reiseplan  oder  mobil  über  die\\r\\n  App  DBNavigator.Achten  SieauchaufInformationenund  AnsagenimZugundam  Bahnhof.  WirdankenIhnenfürIhre  Buchungund  wünschen\\r\\n  Ihnen  eine  angenehme  Reise!.\\r\\n\\r\\n\\r\\n                                                                             20TDT             70\\r\\n                                                     Expreis06.bo.     06.06.           06.2018       .2\\r\\n                                                        beriz  Flexpreis   z  Flexpreis06.Flexprels06.06\\r\\n                                                                               Hilbertz  Fle      Hilbertz\\r\\n                                                              TimoSolingenHilbertzICE2HilbertzKL1ICEErw.2KLTimo1  Erw.2KThe!             DB\\r\\n                                                            org             Solingen   SolingenICE\\r\\n                                          06     06UMENumberg   Numberg    NumbergSolin\\r\\n                                                             20187GOUME   7GOUME7GOUME  NOT\\r\\n                                                                       06.2018       2018             7     Jetzt  Online-Ticketin  die\\r\\n                                                        20G          .         06.06.          06.2018\\r\\n                                                          Flexpreis06Flexprels    Flexpreis06.\\r\\n                                                 ANDA2    Hilbertz     Hilbertz          Hilbertz  Flex         App  DBNavigator\\r\\n                                          .T             Timo                                            H                     -Infos\\r\\n                                       Erw                                           Timo                   laden  undEchtzeit\\r\\n                bonus             CE2KL1  ICEE   .2  KLSolingen1Erw.ICETimo2  KL.1  ErwICE.  2KL1Erw.2TimoKLE    zuIhrer  Reise  erhalten!\\r\\n   bahn.                           Solingen                      Solingen   Solingen/CE\\r\\n                                      ig        Numberg\\r\\n   DasBonusprogrammder  Bahn             GOUME   7GOUMENumberg  Numberg    NumbergSolingen     www.bahn.de/ticket-laden\\r\\n                                                              7GOUME  7GOULE            Numberg\\r\\n                                         .062018    ACOM            do              enne\\r\\n  7GOUME                                                                                                                    Seite  1/1\\r\\n',\n",
              "       'CLIENTTICKET\\n POP UP 1 ANTWERP\\n AALST\\n Terminal:01621190 Merchant:\\n Period: 0036 Transaction: 00000333\\n VISA\\n (A0000000031010)\\nCard:XXXXXXXXXXXX7434\\n Card sequence Nr: 1\\nBETALING\\nDate: 16/05/2014 15:16\\nAuth. code:574540\\nATOSWORLDLINE\\nTotal: 448,80 EUR\\nbossesthode:Chip\\n DANK U\\n TOT ZIENS',\n",
              "       '   DB                                        Online-Ticket\\r\\n\\r\\n\\r\\nICE  Fahrkarte                                                                     knicken!\\r\\n Fahrtantrittam  22.05.2018    beigt2  KLTow  Flores                            nicht\\r\\n               Einfache  FahrtCE\\r\\n Flexpreis  (    nfache  Fahrt)   05.20189.1        City                            bitte\\r\\n                                          CityBer\\r\\n  Klasse:     2   Erw.          Nümberch                ?\\r\\n                     1FlexiHOKWBC50BC50NümbergenCECE22  KLKL19HHOKWENORErw.Fler  reis               FLERE         Barcode\\r\\n Erw:  22.051,,  mitmit  1           05.2018\\r\\n Hinfahrt:    Nürnberg+  City      Berlin+  City,   mitICE\\r\\n Über:2K    VIA:  BA*CO*EF*(HAL*KOET/WE*NMB*L)          RELEASE\\r\\n|  Umtausch/Erstattung  kostenlos  bis  1  Tag  vor  Reiseantritt(Hinfahrt).     A\\r\\n\\r\\nZahlungspositionen  und  Preis                                                              ATTS\\r\\n Positionen                   Preis        MwSt(D)19  %          MwSt  D:  7  %\\r\\n ICEFahrkarte                60,00€       60,00€       9,58€                            Hinfahrt:\\r\\n Reservierung                 4,50€        4,50€       0,72€                             Gültigab:       22.05.2018\\r\\n Zahlungsmittelentgelt  1        0,50€        0,50€       0,08€                                        |23    10  KW\\r\\n Summe                     65,00€       65,00€      10,38€\\r\\n                                                                                                                         Zangenabdruck\\r\\n PayPal-Zahlung\\r\\n Betrag     65,00€         Transaktions-Nr  4KG44207VR109104L                        Frau   Sandra  Christine  Riedel\\r\\n Datum     22.05.2018                                                                Auftragsnummer:                 9HHQKW\\r\\n Deroben  genannte  BetragwurdevonIhremPayPal-Konto  eingezogen.  Die  Buchung\\r\\n Ihres  Online-Tickets  erfolgte  am22.05.2018  06:23  Uhr.  DB  FernverkehrAG/DB  Regio\\r\\n AG,  Stephensonstr.1,60326  Frankfurt,  Steuernummer:29/001/60002.\\r\\n\\r\\nIhre  Reiseverbindung  und  Reservierung  Hinfahrtam22.05.2018\\r\\n Halt                                Datum   Zeit        Gleis       Produkte     Reservierung\\r\\nNürnberg  Hbf                      22.05.    ab  07:00  7           ICE1008     1  Sitzplatz,  Wg.  23,  PI.  12,  1  Fenster,  Großraum,\\r\\nBerlin  Hbf(tief)                     22.05.    an09:51  5                          Nichtraucher,  Res.Nr.  8002  2000301967\\r\\n\\r\\n Wichtige  Nutzungshinweise:\\r\\n-  Ihre  Fahrkarte  giltnurzusammen  mit  einemamtlichen  Lichtbildausweis(z.B.  Personalausweis)oderIhrer  BahnCard.\\r\\n-   MitIhrer  Fahrkarte  zumFlexpreis  können  Siejeden  Zug  dergewählten  Verbindungnutzen:  miteinerIC/EC-Fahrkarte  alleIC-  undEC-Züge,  mit\\r\\n   einerICE-Fahrkarte  auchalle  anderen  Züge.\\r\\n   Das  Online-Ticket  giltnurfürden  unter\"Fahrkarte\"angegebenen  Reiseabschnitt.  Die  Übersicht\"Ihre  Reiseverbindung\"enthält  gegebenenfalls\\r\\n   Reiseinformationen  zu  Teilstrecken(z.B.Bus  oder  Straßenbahn),für  die  eine  weitere  Fahrkarte  erforderlich  sein  kann.\\r\\n   WennIhr  Ticketden  Zusatz  \"+  City\"oder  \"City  mobil\"  zeigt,  gilt  diesernuramTagder  Hinfahrt  bzw.amTagder  Rückfahrt.\\r\\n-   Es  gelten  die  nationalen  undinternationalen  Beförderungsbedingungen  der  DB  AG.Innerhalbvon  Verkehrsverbünden  und  Tarifgemeinschaften\\r\\n  geltenderen  Bedingungen.  Alle  Bedingungen  finden  Sieunter:www.bahn.de/agb  undwww.diebefoerderer.de.\\r\\nIhre  Reisedatenkönnen  sich  kurzfristig  durch  Bauarbeitenoderandere  erforderlicheFahrplananpassungen  ändern.\\r\\n Bitteinformieren  Sie  sich  kurzvorIhrer  Reise  über  mögliche  ÄnderungenIhrer  Reisedatenunterwww.bahn.de/reiseplan  oder  mobil  überdie\\r\\nApp  DB  Navigator.Achten  Sie  auch  aufInformationen  undAnsagenimZugundam  Bahnhof.  WirdankenIhnenfürIhre  Buchungundwünschen\\r\\nIhnen  eineangenehme  Reise!.\\r\\n\\r\\n\\r\\n\\r\\n\\r\\n\\r\\n\\r\\n\\r\\n\\r\\n\\r\\n\\r\\n\\r\\n\\r\\n\\r\\n\\r\\n\\r\\n\\r\\n\\r\\n                                                      rising              Sancra\\r\\n                                                       JCE2KL1  Erw.               WOKWNumber\\r\\n                                                         4   Sandra  Christine  Riedel    Flexpres                DB\\r\\n                                                                   Sandra  Chris      ICE  2  KL  1Erw\\r\\n                                        22      05   1  Erw.         Berlin   City   Numberg  City\\r\\n                                                                     +  City    9HHQKW        2205\\r\\n                                                            Numberg   2018          Fiecareis   .\\r\\n                                                        Flexpreis  22.05.         Riedel           .  Sand\\r\\n                                                                      Christine               Erw\\r\\n                                                                                      2  K   1       Berlin    Jetzt  Online-Ticketin  die\\r\\n                                                         Erw.Sandra             CE        +  City\\r\\n                                                                      Berlin   City/  Nümborg\\r\\n                                                                 City    9HHQKW         22.05.2018        App  DBNavigator\\r\\n                                     inhCitie        Numbergt                 Flexpreis\\r\\n                                                                 .2018                              Cha    laden  undEchtzeit-Infos\\r\\n                                           SHHOkW       2205                            Sandra\\r\\n bahn.bonus             2018         Flexpreis   .  Christine  Riedel        Erw.\\r\\n                                     istineRiedel       Sandra         CityICE  2  KL.      City  Berlin      zuIhrer  Reise  erhalten!\\r\\n Das  Bonusprogrammder  Bahn                         1  Erw.         Berlin           Nomborg           9HH\\r\\n                                     tyICE2  KLNumberg   City      9HHQKW         2205.2018         www.bahn.de/ticket-laden\\r\\n                                       LIHOKW      zic22.05.2018   Riegel  Flexoreis   cha  Christine\\r\\n 9HHQKW                                                                                                                   Seite  1  /1\\r\\n',\n",
              "       '   DB                                       Online-Ticket\\r\\n\\r\\n\\r\\nICE  Fahrkarte                                                                     knicken!\\r\\n|Fahrtantrittam  08.05.2018    Stuttgartoman08.05.20182018  12.SIND                  nicht\\r\\n                         Fabril  ETW.ForespoisKölnt\\r\\n Flexpreis  (Einfache  Fahrt)  382UD8712UD87              E                           bitte\\r\\n               infache   052018          ICE2RE2DZKA\\r\\n               lexpreis08     Stuttcsart   City\\r\\n         Erw2.,   mit  1FilsBCB50FKCB50FKCity      expreisKalm08.City05.2018SMS                              Barcode\\r\\n Erw:201811\\r\\n Hinfahrt:    Köln+  City  -    Stuttgart+  City,  mitICE   X                                         LISTEN\\r\\n Über:  170  VIA:LM*(F*MA/WIBI*MZ*KA*PF)*  BIET.06.\\r\\n\\r\\nZahlungspositionenund  Preis\\r\\n Positionen                   Preis        MwSt(D)19  %          MwSt  D:  7  %\\r\\nICE  Fahrkarte  FK      1       54,80€      54,80€       8,75€\\r\\n Summe                     54,80€      54,80€       8,75€                            Hinfahrt:\\r\\n Kreditkartenzahlung                                                                 Gültig  ab:      08.05.2018\\r\\n Betrag     54,80€         VU-Nr      4556695619    Transaktions-Nr     893710\\r\\n Datum     08.05.2018      Gen-Nr     059588\\r\\nIhre  Kreditkarte  wurde  mitdemoben  genannten  Betrag  belastet.  Die  BuchungIhres        bahn.business                  Zangenabdruck\\r\\n Online-Tickets  erfolgteam08.05.201806:28  Uhr.DBFernverkehr  AG/DB  Regio  AG,       Herr  Dr.  Pouya  Azimi\\r\\n Stephensonstr.  1,  60326  Frankfurt,  Steuernummer:29/001/60002.\\r\\n                                                                                     Auftragsnummer:                   12UD87\\r\\n\\r\\nIhre  Reiseverbindung  und  Reservierung  Hinfahrtam08.05.2018\\r\\nHalt                                Datum   Zeit        Gleis       Produkte     Reservierung\\r\\nKöln  Messe/Deutz  Gl.11-12        08.05.    ab  07:13  11          ICE  913\\r\\nStuttgart  Hbf                       08.05.    an09:24  12\\r\\n\\r\\nWichtige  Nutzungshinweise:\\r\\n-  Ihre  Fahrkarte  giltnurzusammen  mit  einemamtlichen  Lichtbildausweis(z.B.  Personalausweis)oderIhrer  BahnCard.\\r\\n-   MitIhrerFahrkartezumFlexpreis  können  SiejedenZug  der  gewählten  Verbindungnutzen:  mit  einerIC/EC-Fahrkarte  alleIC-und  EC-Züge,  mit\\r\\n  einerICE-Fahrkarte  auchalle  anderen  Züge.\\r\\n  Das  Online-Ticketgiltnurfürden  unter\"Fahrkarte\"angegebenen  Reiseabschnitt.  Die  Übersicht\"Ihre  Reiseverbindung\"enthältgegebenenfalls\\r\\n   ReiseinformationenzuTeilstrecken(z.B.  Busoder  Straßenbahn),für  die  eine  weitere  Fahrkarte  erforderlichsein  kann.\\r\\n-   WennIhr  TicketdenZusatz  \"+  City\"  oder\"City  mobil\"zeigt,  gilt  diesernuramTag  der  Hinfahrtbzw.amTag  der  Rückfahrt.\\r\\n-   Es  geltendie  nationalenundinternationalen  Beförderungsbedingungen  derDBAG.InnerhalbvonVerkehrsverbünden  und  Tarifgemeinschaften\\r\\n  geltenderen  Bedingungen.  Alle  Bedingungen  finden  Sie  unter:www.bahn.de/agb  undwww.diebefoerderer.de.\\r\\nIhre  Reisedatenkönnen  sich  kurzfristig  durch  Bauarbeitenoderandere  erforderlicheFahrplananpassungen  ändern.\\r\\nBitte  informieren  Sie  sich  kurzvorIhrer  Reise  über  mögliche  ÄnderungenIhrer  Reisedaten  unterwww.bahn.de/reiseplanoder  mobil  über  die\\r\\nApp  DB  Navigator.  Achten  Sie  auchaufInformationenund  AnsagenimZugundam  Bahnhof.  Wir  dankenIhnenfürIhre  Buchungund  wünschen\\r\\nIhnen  eine  angenehme  Reise!.\\r\\n\\r\\n\\r\\n\\r\\n\\r\\n\\r\\n\\r\\n\\r\\n\\r\\n\\r\\n\\r\\n\\r\\n\\r\\n\\r\\n\\r\\n\\r\\n\\r\\n\\r\\n\\r\\n\\r\\n\\r\\n                                                        Flexpres        Flexprono  AzimiFlexPTCD\\r\\n                                                     pi           Azimi                        PouvaA\\r\\n                                                          Pouya            Pouva         Erw.\\r\\n                                                     Erw.  Pouya  AzimityErw.   ICEICE2KL2KL1      ICE2K\\r\\n                                                                    Azimi       Stuttgart  City     Stud             DB\\r\\n                                                           City        Köln   City12UD87Köln   City\\r\\n                                                           812UD87                          120D8\\r\\n                                                          (         08.05.2018      08.05.2018\\r\\n                                                            expreis         Flexpreis   Azimi  Flexpreis\\r\\n                                                             PouyaAzimi     Pouya             Pou\\r\\n                                                           .       2KL1  Erw.         2KL1  Erw./CE    Jetzt  Online-Ticketin  die\\r\\n                                                      serw        StuttgartCityICE          City\\r\\n                                                 Taart  CityICE                   Stuttgart\\r\\n                                     Köln                Köln  City        Köln   City12UD87Köln   CityS       App  DBNavigator\\r\\n                                               120087         12UD87\\r\\n bahn.bonus            805.2018      08.05.2018       08.05.2018      08.05.2018Flexpre1201    laden  undEchtzeit-Infos\\r\\n                                     AzimiFlexpreis   AzimiFlexprels  Azimi  Flexprels   Azimi              zuIhrer  Reise  erhalten!\\r\\n DasBonusprogrammder  Bahn                       Pouya           Pouya            Pouya            .PA\\r\\n                                     KL.1ErwCity.ICE2KL1  ErwCityICE2ShiftcartKL1  Erw.CityICE2  KLart1  ETWCity      www.bahn.de/ticket-laden\\r\\n                                    Luart         Start                           C\\r\\n12UD87                                                                                                                     Seite  1  /1\\r\\n'],\n",
              "      dtype=object)"
            ]
          },
          "metadata": {
            "tags": []
          },
          "execution_count": 76
        }
      ]
    },
    {
      "metadata": {
        "id": "a7Yniv9TIILo",
        "colab_type": "code",
        "colab": {}
      },
      "cell_type": "code",
      "source": [
        "list_classes = [\"0\",\"1\", \"2\", \"3\", \"4\", \"5\", \"6\",\"7\",\"8\"]\n",
        "y = train_df[list_classes].values"
      ],
      "execution_count": 0,
      "outputs": []
    },
    {
      "metadata": {
        "id": "9u-6JxZpin_h",
        "colab_type": "code",
        "colab": {
          "base_uri": "https://localhost:8080/",
          "height": 85
        },
        "outputId": "2846364f-b54a-46c7-9f53-bb1eaf071a8e"
      },
      "cell_type": "code",
      "source": [
        "y[:4]"
      ],
      "execution_count": 78,
      "outputs": [
        {
          "output_type": "execute_result",
          "data": {
            "text/plain": [
              "array([[0., 0., 0., 0., 0., 0., 0., 0., 1.],\n",
              "       [0., 0., 0., 1., 0., 0., 0., 0., 0.],\n",
              "       [0., 0., 0., 0., 0., 0., 0., 0., 1.],\n",
              "       [0., 0., 0., 0., 0., 0., 0., 0., 1.]])"
            ]
          },
          "metadata": {
            "tags": []
          },
          "execution_count": 78
        }
      ]
    },
    {
      "metadata": {
        "id": "Wz_jkdVmM23A",
        "colab_type": "code",
        "colab": {
          "base_uri": "https://localhost:8080/",
          "height": 204
        },
        "outputId": "4645f08b-171c-4e3f-e371-25080dd1304e"
      },
      "cell_type": "code",
      "source": [
        "train_df.head()"
      ],
      "execution_count": 79,
      "outputs": [
        {
          "output_type": "execute_result",
          "data": {
            "text/html": [
              "<div>\n",
              "<style scoped>\n",
              "    .dataframe tbody tr th:only-of-type {\n",
              "        vertical-align: middle;\n",
              "    }\n",
              "\n",
              "    .dataframe tbody tr th {\n",
              "        vertical-align: top;\n",
              "    }\n",
              "\n",
              "    .dataframe thead th {\n",
              "        text-align: right;\n",
              "    }\n",
              "</style>\n",
              "<table border=\"1\" class=\"dataframe\">\n",
              "  <thead>\n",
              "    <tr style=\"text-align: right;\">\n",
              "      <th></th>\n",
              "      <th>Unnamed: 0</th>\n",
              "      <th>raw_text</th>\n",
              "      <th>0</th>\n",
              "      <th>1</th>\n",
              "      <th>2</th>\n",
              "      <th>3</th>\n",
              "      <th>4</th>\n",
              "      <th>5</th>\n",
              "      <th>6</th>\n",
              "      <th>7</th>\n",
              "      <th>8</th>\n",
              "    </tr>\n",
              "  </thead>\n",
              "  <tbody>\n",
              "    <tr>\n",
              "      <th>0</th>\n",
              "      <td>1149</td>\n",
              "      <td>DB                                       On...</td>\n",
              "      <td>0.0</td>\n",
              "      <td>0.0</td>\n",
              "      <td>0.0</td>\n",
              "      <td>0.0</td>\n",
              "      <td>0.0</td>\n",
              "      <td>0.0</td>\n",
              "      <td>0.0</td>\n",
              "      <td>0.0</td>\n",
              "      <td>1.0</td>\n",
              "    </tr>\n",
              "    <tr>\n",
              "      <th>1</th>\n",
              "      <td>527</td>\n",
              "      <td>CLIENTTICKET\\n POP UP 1 ANTWERP\\n AALST\\n Term...</td>\n",
              "      <td>0.0</td>\n",
              "      <td>0.0</td>\n",
              "      <td>0.0</td>\n",
              "      <td>1.0</td>\n",
              "      <td>0.0</td>\n",
              "      <td>0.0</td>\n",
              "      <td>0.0</td>\n",
              "      <td>0.0</td>\n",
              "      <td>0.0</td>\n",
              "    </tr>\n",
              "    <tr>\n",
              "      <th>2</th>\n",
              "      <td>1147</td>\n",
              "      <td>DB                                        O...</td>\n",
              "      <td>0.0</td>\n",
              "      <td>0.0</td>\n",
              "      <td>0.0</td>\n",
              "      <td>0.0</td>\n",
              "      <td>0.0</td>\n",
              "      <td>0.0</td>\n",
              "      <td>0.0</td>\n",
              "      <td>0.0</td>\n",
              "      <td>1.0</td>\n",
              "    </tr>\n",
              "    <tr>\n",
              "      <th>3</th>\n",
              "      <td>1180</td>\n",
              "      <td>DB                                       On...</td>\n",
              "      <td>0.0</td>\n",
              "      <td>0.0</td>\n",
              "      <td>0.0</td>\n",
              "      <td>0.0</td>\n",
              "      <td>0.0</td>\n",
              "      <td>0.0</td>\n",
              "      <td>0.0</td>\n",
              "      <td>0.0</td>\n",
              "      <td>1.0</td>\n",
              "    </tr>\n",
              "    <tr>\n",
              "      <th>4</th>\n",
              "      <td>733</td>\n",
              "      <td>Alberto  Alvarez  Ribas\\r\\n\\r\\nDe:            ...</td>\n",
              "      <td>0.0</td>\n",
              "      <td>0.0</td>\n",
              "      <td>0.0</td>\n",
              "      <td>0.0</td>\n",
              "      <td>0.0</td>\n",
              "      <td>0.0</td>\n",
              "      <td>0.0</td>\n",
              "      <td>1.0</td>\n",
              "      <td>0.0</td>\n",
              "    </tr>\n",
              "  </tbody>\n",
              "</table>\n",
              "</div>"
            ],
            "text/plain": [
              "   Unnamed: 0                                           raw_text    0    1  \\\n",
              "0        1149     DB                                       On...  0.0  0.0   \n",
              "1         527  CLIENTTICKET\\n POP UP 1 ANTWERP\\n AALST\\n Term...  0.0  0.0   \n",
              "2        1147     DB                                        O...  0.0  0.0   \n",
              "3        1180     DB                                       On...  0.0  0.0   \n",
              "4         733  Alberto  Alvarez  Ribas\\r\\n\\r\\nDe:            ...  0.0  0.0   \n",
              "\n",
              "     2    3    4    5    6    7    8  \n",
              "0  0.0  0.0  0.0  0.0  0.0  0.0  1.0  \n",
              "1  0.0  1.0  0.0  0.0  0.0  0.0  0.0  \n",
              "2  0.0  0.0  0.0  0.0  0.0  0.0  1.0  \n",
              "3  0.0  0.0  0.0  0.0  0.0  0.0  1.0  \n",
              "4  0.0  0.0  0.0  0.0  0.0  1.0  0.0  "
            ]
          },
          "metadata": {
            "tags": []
          },
          "execution_count": 79
        }
      ]
    },
    {
      "metadata": {
        "id": "i2L3GWN8M-6S",
        "colab_type": "code",
        "colab": {
          "base_uri": "https://localhost:8080/",
          "height": 297
        },
        "outputId": "fa99abd7-3627-4a65-8132-7417d7d74f30"
      },
      "cell_type": "code",
      "source": [
        "train_df.describe()"
      ],
      "execution_count": 81,
      "outputs": [
        {
          "output_type": "execute_result",
          "data": {
            "text/html": [
              "<div>\n",
              "<style scoped>\n",
              "    .dataframe tbody tr th:only-of-type {\n",
              "        vertical-align: middle;\n",
              "    }\n",
              "\n",
              "    .dataframe tbody tr th {\n",
              "        vertical-align: top;\n",
              "    }\n",
              "\n",
              "    .dataframe thead th {\n",
              "        text-align: right;\n",
              "    }\n",
              "</style>\n",
              "<table border=\"1\" class=\"dataframe\">\n",
              "  <thead>\n",
              "    <tr style=\"text-align: right;\">\n",
              "      <th></th>\n",
              "      <th>Unnamed: 0</th>\n",
              "      <th>0</th>\n",
              "      <th>1</th>\n",
              "      <th>2</th>\n",
              "      <th>3</th>\n",
              "      <th>4</th>\n",
              "      <th>5</th>\n",
              "      <th>6</th>\n",
              "      <th>7</th>\n",
              "      <th>8</th>\n",
              "    </tr>\n",
              "  </thead>\n",
              "  <tbody>\n",
              "    <tr>\n",
              "      <th>count</th>\n",
              "      <td>1260.000000</td>\n",
              "      <td>1260.000000</td>\n",
              "      <td>1260.000000</td>\n",
              "      <td>1260.000000</td>\n",
              "      <td>1260.000000</td>\n",
              "      <td>1260.000000</td>\n",
              "      <td>1260.000000</td>\n",
              "      <td>1260.000000</td>\n",
              "      <td>1260.000000</td>\n",
              "      <td>1260.000000</td>\n",
              "    </tr>\n",
              "    <tr>\n",
              "      <th>mean</th>\n",
              "      <td>634.903968</td>\n",
              "      <td>0.253175</td>\n",
              "      <td>0.061111</td>\n",
              "      <td>0.023016</td>\n",
              "      <td>0.145238</td>\n",
              "      <td>0.034921</td>\n",
              "      <td>0.159524</td>\n",
              "      <td>0.028571</td>\n",
              "      <td>0.141270</td>\n",
              "      <td>0.153175</td>\n",
              "    </tr>\n",
              "    <tr>\n",
              "      <th>std</th>\n",
              "      <td>368.398937</td>\n",
              "      <td>0.435003</td>\n",
              "      <td>0.239629</td>\n",
              "      <td>0.150013</td>\n",
              "      <td>0.352481</td>\n",
              "      <td>0.183652</td>\n",
              "      <td>0.366309</td>\n",
              "      <td>0.166665</td>\n",
              "      <td>0.348438</td>\n",
              "      <td>0.360299</td>\n",
              "    </tr>\n",
              "    <tr>\n",
              "      <th>min</th>\n",
              "      <td>0.000000</td>\n",
              "      <td>0.000000</td>\n",
              "      <td>0.000000</td>\n",
              "      <td>0.000000</td>\n",
              "      <td>0.000000</td>\n",
              "      <td>0.000000</td>\n",
              "      <td>0.000000</td>\n",
              "      <td>0.000000</td>\n",
              "      <td>0.000000</td>\n",
              "      <td>0.000000</td>\n",
              "    </tr>\n",
              "    <tr>\n",
              "      <th>25%</th>\n",
              "      <td>313.750000</td>\n",
              "      <td>0.000000</td>\n",
              "      <td>0.000000</td>\n",
              "      <td>0.000000</td>\n",
              "      <td>0.000000</td>\n",
              "      <td>0.000000</td>\n",
              "      <td>0.000000</td>\n",
              "      <td>0.000000</td>\n",
              "      <td>0.000000</td>\n",
              "      <td>0.000000</td>\n",
              "    </tr>\n",
              "    <tr>\n",
              "      <th>50%</th>\n",
              "      <td>627.500000</td>\n",
              "      <td>0.000000</td>\n",
              "      <td>0.000000</td>\n",
              "      <td>0.000000</td>\n",
              "      <td>0.000000</td>\n",
              "      <td>0.000000</td>\n",
              "      <td>0.000000</td>\n",
              "      <td>0.000000</td>\n",
              "      <td>0.000000</td>\n",
              "      <td>0.000000</td>\n",
              "    </tr>\n",
              "    <tr>\n",
              "      <th>75%</th>\n",
              "      <td>954.500000</td>\n",
              "      <td>1.000000</td>\n",
              "      <td>0.000000</td>\n",
              "      <td>0.000000</td>\n",
              "      <td>0.000000</td>\n",
              "      <td>0.000000</td>\n",
              "      <td>0.000000</td>\n",
              "      <td>0.000000</td>\n",
              "      <td>0.000000</td>\n",
              "      <td>0.000000</td>\n",
              "    </tr>\n",
              "    <tr>\n",
              "      <th>max</th>\n",
              "      <td>1285.000000</td>\n",
              "      <td>1.000000</td>\n",
              "      <td>1.000000</td>\n",
              "      <td>1.000000</td>\n",
              "      <td>1.000000</td>\n",
              "      <td>1.000000</td>\n",
              "      <td>1.000000</td>\n",
              "      <td>1.000000</td>\n",
              "      <td>1.000000</td>\n",
              "      <td>1.000000</td>\n",
              "    </tr>\n",
              "  </tbody>\n",
              "</table>\n",
              "</div>"
            ],
            "text/plain": [
              "        Unnamed: 0            0            1            2            3  \\\n",
              "count  1260.000000  1260.000000  1260.000000  1260.000000  1260.000000   \n",
              "mean    634.903968     0.253175     0.061111     0.023016     0.145238   \n",
              "std     368.398937     0.435003     0.239629     0.150013     0.352481   \n",
              "min       0.000000     0.000000     0.000000     0.000000     0.000000   \n",
              "25%     313.750000     0.000000     0.000000     0.000000     0.000000   \n",
              "50%     627.500000     0.000000     0.000000     0.000000     0.000000   \n",
              "75%     954.500000     1.000000     0.000000     0.000000     0.000000   \n",
              "max    1285.000000     1.000000     1.000000     1.000000     1.000000   \n",
              "\n",
              "                 4            5            6            7            8  \n",
              "count  1260.000000  1260.000000  1260.000000  1260.000000  1260.000000  \n",
              "mean      0.034921     0.159524     0.028571     0.141270     0.153175  \n",
              "std       0.183652     0.366309     0.166665     0.348438     0.360299  \n",
              "min       0.000000     0.000000     0.000000     0.000000     0.000000  \n",
              "25%       0.000000     0.000000     0.000000     0.000000     0.000000  \n",
              "50%       0.000000     0.000000     0.000000     0.000000     0.000000  \n",
              "75%       0.000000     0.000000     0.000000     0.000000     0.000000  \n",
              "max       1.000000     1.000000     1.000000     1.000000     1.000000  "
            ]
          },
          "metadata": {
            "tags": []
          },
          "execution_count": 81
        }
      ]
    },
    {
      "metadata": {
        "id": "bxPcsHrWiqn4",
        "colab_type": "code",
        "colab": {}
      },
      "cell_type": "code",
      "source": [
        "list_sentences_test = test_df[\"raw_text\"].fillna(\"NA\").values"
      ],
      "execution_count": 0,
      "outputs": []
    },
    {
      "metadata": {
        "id": "ED-fbygkizwn",
        "colab_type": "code",
        "colab": {}
      },
      "cell_type": "code",
      "source": [
        "data=[]\n",
        "for text in list_sentences_train:\n",
        "    data.append(char2vec(text))\n",
        "data=np.array(data)\n",
        "\n",
        "test_data = []\n",
        "for text in list_sentences_test:\n",
        "    test_data.append(char2vec(text))\n",
        "test_data=np.array(test_data)"
      ],
      "execution_count": 0,
      "outputs": []
    },
    {
      "metadata": {
        "id": "YxXVWOa-jjTp",
        "colab_type": "code",
        "colab": {
          "base_uri": "https://localhost:8080/",
          "height": 432
        },
        "outputId": "042c4516-28af-4cd6-8e81-a529872961ec"
      },
      "cell_type": "code",
      "source": [
        "plt.hist(data[0])"
      ],
      "execution_count": 85,
      "outputs": [
        {
          "output_type": "execute_result",
          "data": {
            "text/plain": [
              "(array([ 528.,  185.,  385.,  764.,  176.,   75.,  148.,  102., 3171.,\n",
              "         610.]),\n",
              " array([  5. ,  51.4,  97.8, 144.2, 190.6, 237. , 283.4, 329.8, 376.2,\n",
              "        422.6, 469. ]),\n",
              " <a list of 10 Patch objects>)"
            ]
          },
          "metadata": {
            "tags": []
          },
          "execution_count": 85
        },
        {
          "output_type": "display_data",
          "data": {
            "image/png": "[encoded data removed]",
            "text/plain": [
              "<matplotlib.figure.Figure at 0x7fb2f00df908>"
            ]
          },
          "metadata": {
            "tags": []
          }
        }
      ]
    },
    {
      "metadata": {
        "id": "_9vyAWW-i81T",
        "colab_type": "code",
        "colab": {}
      },
      "cell_type": "code",
      "source": [
        "def ConvolutionalBlock(input_shape, num_filters):\n",
        "    model=Sequential()\n",
        "\n",
        "    #1st conv layer\n",
        "    model.add(Conv1D(filters = num_filters, kernel_size = 3, strides = 1, padding = \"same\", input_shape = input_shape))\n",
        "    model.add(BatchNormalization())\n",
        "    model.add(Activation(\"relu\"))\n",
        "\n",
        "    #2nd conv layer\n",
        "    model.add(Conv1D(filters = num_filters, kernel_size = 3, strides = 1, padding = \"same\"))\n",
        "    model.add(BatchNormalization())\n",
        "    model.add(Activation(\"relu\"))\n",
        "\n",
        "    return model\n",
        "\n",
        "#https://www.tensorflow.org/api_docs/python/tf/nn/top_k\n",
        "def top_kmax(x):\n",
        "    x=tf.transpose(x, [0, 2, 1])\n",
        "    k_max = tf.nn.top_k(x, k=top_k)\n",
        "    return tf.reshape(k_max[0], (-1, num_filters[-1]*top_k))"
      ],
      "execution_count": 0,
      "outputs": []
    },
    {
      "metadata": {
        "id": "hr3qsP1PNgh_",
        "colab_type": "code",
        "colab": {}
      },
      "cell_type": "code",
      "source": [
        "def simple_model(num_filters, num_classes, sequence_max_length, num_chars, embedding_size, top_k, learning_rate=0.001):\n",
        "    inputs=Input(shape=(sequence_max_length, ), dtype='int32', name='input')\n",
        "    embedded_seq = Embedding(num_chars, embedding_size, input_length=sequence_max_length)(inputs)\n",
        "    embedded_seq = BatchNormalization()(embedded_seq)\n",
        "    #1st Layer\n",
        "    conv = Conv1D(filters=64, kernel_size=3, strides=2, padding=\"same\")(embedded_seq)\n",
        "\n",
        "        #ConvBlocks\n",
        "    #for i in range(len(num_filters)):\n",
        "    #  conv = ConvolutionalBlock(conv_shape(conv), num_filters[i])(conv)\n",
        "    #  conv = MaxPooling1D(pool_size=3, strides=2, padding=\"same\")(conv)\n",
        "    \n",
        "    conv = Conv1D(filters=64, kernel_size=3, strides=1, padding=\"valid\")(conv)\n",
        "    conv = Conv1D(filters=64, kernel_size=3, strides=1, padding=\"valid\")(conv)\n",
        "    conv = Conv1D(filters=64, kernel_size=3, strides=1, padding=\"valid\")(conv)\n",
        "    conv = Conv1D(filters=64, kernel_size=3, strides=1, padding=\"valid\")(conv)\n",
        "\n",
        "\n",
        "\n",
        "\n",
        "\n",
        "\n",
        "\n",
        "    conv = Conv1D(filters=64, kernel_size=192, strides=1, padding=\"valid\")(conv)\n",
        "\n",
        "\n",
        "\n",
        "    # fully connected layers\n",
        "    # in original paper they didn't used dropouts\n",
        "    fc1=Dense(512, activation='relu', kernel_initializer='he_normal')(conv)\n",
        "    fc1=Dropout(0.3)(fc1)\n",
        "    fc2=Dense(512, activation='relu', kernel_initializer='he_normal')(fc1)\n",
        "    fc2=Dropout(0.3)(fc2)\n",
        "    out=Dense(num_classes, activation='softmax')(fc2)\n",
        "    out=Flatten()(out)\n",
        "    \n",
        "    #optimizer\n",
        "    #sgd = SGD(lr=learning_rate, decay=1e-6, momentum=0.9, nesterov=False)\n",
        "    \n",
        "    model = Model(inputs=inputs, outputs=out)\n",
        "    model.compile(optimizer='rmsprop', loss='categorical_crossentropy', metrics=['accuracy'])\n",
        "    \n",
        "    return model\n",
        "  "
      ],
      "execution_count": 0,
      "outputs": []
    },
    {
      "metadata": {
        "id": "MUBv-moVjIDi",
        "colab_type": "code",
        "colab": {
          "base_uri": "https://localhost:8080/",
          "height": 782
        },
        "outputId": "7d0bb916-a9f9-485d-f0ca-355260ac2679"
      },
      "cell_type": "code",
      "source": [
        "num_filters = [64, 64, 64, 64]\n",
        "model= simple_model(num_filters=num_filters, num_classes=9,num_chars=470, sequence_max_length=FEATURE_LEN,embedding_size=50,top_k=3)\n",
        "model.summary()"
      ],
      "execution_count": 111,
      "outputs": [
        {
          "output_type": "stream",
          "text": [
            "_________________________________________________________________\n",
            "Layer (type)                 Output Shape              Param #   \n",
            "=================================================================\n",
            "input (InputLayer)           (None, 6144)              0         \n",
            "_________________________________________________________________\n",
            "embedding_12 (Embedding)     (None, 6144, 50)          23500     \n",
            "_________________________________________________________________\n",
            "batch_normalization_100 (Bat (None, 6144, 50)          200       \n",
            "_________________________________________________________________\n",
            "conv1d_104 (Conv1D)          (None, 3072, 64)          9664      \n",
            "_________________________________________________________________\n",
            "sequential_45 (Sequential)   (None, 3072, 64)          25216     \n",
            "_________________________________________________________________\n",
            "max_pooling1d_45 (MaxPooling (None, 1536, 64)          0         \n",
            "_________________________________________________________________\n",
            "sequential_46 (Sequential)   (None, 1536, 128)         75008     \n",
            "_________________________________________________________________\n",
            "max_pooling1d_46 (MaxPooling (None, 768, 128)          0         \n",
            "_________________________________________________________________\n",
            "sequential_47 (Sequential)   (None, 768, 256)          297472    \n",
            "_________________________________________________________________\n",
            "max_pooling1d_47 (MaxPooling (None, 384, 256)          0         \n",
            "_________________________________________________________________\n",
            "sequential_48 (Sequential)   (None, 384, 512)          1184768   \n",
            "_________________________________________________________________\n",
            "max_pooling1d_48 (MaxPooling (None, 192, 512)          0         \n",
            "_________________________________________________________________\n",
            "conv1d_113 (Conv1D)          (None, 1, 64)             6291520   \n",
            "_________________________________________________________________\n",
            "dense_31 (Dense)             (None, 1, 512)            33280     \n",
            "_________________________________________________________________\n",
            "dropout_21 (Dropout)         (None, 1, 512)            0         \n",
            "_________________________________________________________________\n",
            "dense_32 (Dense)             (None, 1, 512)            262656    \n",
            "_________________________________________________________________\n",
            "dropout_22 (Dropout)         (None, 1, 512)            0         \n",
            "_________________________________________________________________\n",
            "dense_33 (Dense)             (None, 1, 9)              4617      \n",
            "_________________________________________________________________\n",
            "flatten_1 (Flatten)          (None, 9)                 0         \n",
            "=================================================================\n",
            "Total params: 8,207,901\n",
            "Trainable params: 8,203,961\n",
            "Non-trainable params: 3,940\n",
            "_________________________________________________________________\n"
          ],
          "name": "stdout"
        }
      ]
    },
    {
      "metadata": {
        "id": "-cGLit8LjdfT",
        "colab_type": "code",
        "colab": {}
      },
      "cell_type": "code",
      "source": [
        "def limit_mem():\n",
        "    import keras.backend as K\n",
        "    K.get_session().close()\n",
        "    cfg = K.tf.ConfigProto()\n",
        "    cfg.gpu_options.allow_growth = True\n",
        "    K.set_session(K.tf.Session(config=cfg))\n",
        "    print('gpu memory cleaned')\n",
        "    \n",
        "def preds(k):\n",
        "    from datetime import datetime\n",
        "    y_temp = np.zeros((len(test_data), len(list_classes)))\n",
        "    y_pred = np.zeros((len(test_data), len(list_classes)))\n",
        "    i=0;\n",
        "    from sklearn.model_selection import KFold\n",
        "    kf = KFold(n_splits=k, random_state=2)\n",
        "\n",
        "    for train_index, test_index in kf.split(data):\n",
        "        limit_mem()\n",
        "        start=datetime.now()\n",
        "        print('fold====================>>>>>>>>>>',i+1)\n",
        "        X_train, X_test = data[train_index], data[test_index]\n",
        "        y_train, y_test = y[train_index], y[test_index]\n",
        "\n",
        "        model = None\n",
        "        num_filters = [64, 128, 256, 512]\n",
        "        model=simple_model(num_filters=num_filters, num_classes=9,num_chars=470, sequence_max_length=FEATURE_LEN,embedding_size=50,top_k=3)\n",
        "\n",
        "        early_stopping =EarlyStopping(monitor='val_loss', patience=5)\n",
        "        bst_model_path = 'cv10_best_weights'+str(i+1) + '.h5'\n",
        "        model_checkpoint = ModelCheckpoint(bst_model_path, save_best_only=True, save_weights_only=True)\n",
        "\n",
        "        hist = model.fit(X_train, y_train, \\\n",
        "                validation_data=(X_test, y_test), \\\n",
        "                epochs=200, batch_size=256,callbacks=[early_stopping, model_checkpoint])\n",
        "\n",
        "        bst_val_score = min(hist.history['val_loss'])\n",
        "        print('bst_val_score',bst_val_score)\n",
        "\n",
        "        model.load_weights(bst_model_path)\n",
        "        #model.fit(data, y,epochs=2, batch_size=256, shuffle=True,)\n",
        "        \n",
        "        y_temp = model.predict([test_data], batch_size=256, verbose=1)\n",
        "        y_pred+=y_temp\n",
        "        end=datetime.now()\n",
        "        print(\" \")\n",
        "        print('time taken for this fold', end-start)\n",
        "        i+=1\n",
        "    y_test_pred=y_pred/k\n",
        "    return y_test_pred"
      ],
      "execution_count": 0,
      "outputs": []
    },
    {
      "metadata": {
        "id": "UThyF41xjjjw",
        "colab_type": "code",
        "colab": {}
      },
      "cell_type": "code",
      "source": [
        "y_test=preds(5)"
      ],
      "execution_count": 0,
      "outputs": []
    },
    {
      "metadata": {
        "id": "KjodfVYnjnBT",
        "colab_type": "code",
        "colab": {
          "base_uri": "https://localhost:8080/",
          "height": 102
        },
        "outputId": "03635372-17f1-4e90-d6bc-4b81bd092286"
      },
      "cell_type": "code",
      "source": [
        "ls"
      ],
      "execution_count": 0,
      "outputs": [
        {
          "output_type": "stream",
          "text": [
            "cv10_best_weights1.h5  test.csv\r\n",
            "cv10_best_weights2.h5  train123\r\n",
            "cv10_best_weights3.h5  train_686_raw_text_Category_s3imagepath\r\n",
            "cv10_best_weights4.h5  train.csv\r\n",
            "cv10_best_weights5.h5\r\n"
          ],
          "name": "stdout"
        }
      ]
    },
    {
      "metadata": {
        "id": "dUTCIckFm0Mz",
        "colab_type": "code",
        "colab": {}
      },
      "cell_type": "code",
      "source": [
        "from google.colab import files"
      ],
      "execution_count": 0,
      "outputs": []
    },
    {
      "metadata": {
        "id": "m9Z75rVum-pR",
        "colab_type": "code",
        "colab": {
          "base_uri": "https://localhost:8080/",
          "height": 34
        },
        "outputId": "ef0dd22b-6d03-4888-de39-b1374a50a7a5"
      },
      "cell_type": "code",
      "source": [
        "# Create & upload a file.\n",
        "uploaded = drive.CreateFile({'test.csv': 'test.csv'})\n",
        "uploaded.SetContentFile('test.csv')\n",
        "uploaded.Upload()\n",
        "print('Uploaded file with ID {}'.format(uploaded.get('id')))\n"
      ],
      "execution_count": 0,
      "outputs": [
        {
          "output_type": "stream",
          "text": [
            "Uploaded file with ID 1ni3xXDIR2hOkLLWwILDFNVj0UuC4I2dD\n"
          ],
          "name": "stdout"
        }
      ]
    },
    {
      "metadata": {
        "id": "WoTDzntFnEPh",
        "colab_type": "code",
        "colab": {}
      },
      "cell_type": "code",
      "source": [
        "model.load_weights('cv10_best_weights5.h5' , by_name=False)"
      ],
      "execution_count": 0,
      "outputs": []
    },
    {
      "metadata": {
        "id": "bgzW9sycpGms",
        "colab_type": "code",
        "colab": {}
      },
      "cell_type": "code",
      "source": [
        "test_data_result = model.predict(test_data)"
      ],
      "execution_count": 0,
      "outputs": []
    },
    {
      "metadata": {
        "id": "FMwlm4dxpSP_",
        "colab_type": "code",
        "colab": {
          "base_uri": "https://localhost:8080/",
          "height": 85
        },
        "outputId": "4f7eb71f-1bea-4d85-866e-4b3858c6416f"
      },
      "cell_type": "code",
      "source": [
        "test_data_result[:2]"
      ],
      "execution_count": 0,
      "outputs": [
        {
          "output_type": "execute_result",
          "data": {
            "text/plain": [
              "array([[0.61010987, 0.11216   , 0.02600799, 0.227153  , 0.06340238,\n",
              "        0.03155671, 0.04278218, 0.00870034, 0.00530561],\n",
              "       [0.6073629 , 0.11009638, 0.02613009, 0.22617193, 0.06281638,\n",
              "        0.03249059, 0.04217343, 0.00875956, 0.00525018]], dtype=float32)"
            ]
          },
          "metadata": {
            "tags": []
          },
          "execution_count": 83
        }
      ]
    },
    {
      "metadata": {
        "id": "e1_J3LyDqrNs",
        "colab_type": "code",
        "colab": {
          "base_uri": "https://localhost:8080/",
          "height": 34
        },
        "outputId": "d0a3fd43-424e-498d-bd91-f77cd7cb73e6"
      },
      "cell_type": "code",
      "source": [
        "y_test.shape"
      ],
      "execution_count": 0,
      "outputs": [
        {
          "output_type": "execute_result",
          "data": {
            "text/plain": [
              "(262, 9)"
            ]
          },
          "metadata": {
            "tags": []
          },
          "execution_count": 321
        }
      ]
    },
    {
      "metadata": {
        "id": "_bhK41zVpr6D",
        "colab_type": "code",
        "colab": {}
      },
      "cell_type": "code",
      "source": [
        "def decode(datum):\n",
        "    return np.argmax(datum)"
      ],
      "execution_count": 0,
      "outputs": []
    },
    {
      "metadata": {
        "id": "Iz4vgzoFp8JV",
        "colab_type": "code",
        "colab": {
          "base_uri": "https://localhost:8080/",
          "height": 204
        },
        "outputId": "ada1ddee-fda4-4d12-f3c8-bf2767162ba7"
      },
      "cell_type": "code",
      "source": [
        "test_df.head()"
      ],
      "execution_count": 0,
      "outputs": [
        {
          "output_type": "execute_result",
          "data": {
            "text/html": [
              "<div>\n",
              "<style scoped>\n",
              "    .dataframe tbody tr th:only-of-type {\n",
              "        vertical-align: middle;\n",
              "    }\n",
              "\n",
              "    .dataframe tbody tr th {\n",
              "        vertical-align: top;\n",
              "    }\n",
              "\n",
              "    .dataframe thead th {\n",
              "        text-align: right;\n",
              "    }\n",
              "</style>\n",
              "<table border=\"1\" class=\"dataframe\">\n",
              "  <thead>\n",
              "    <tr style=\"text-align: right;\">\n",
              "      <th></th>\n",
              "      <th>Unnamed: 0</th>\n",
              "      <th>raw_text</th>\n",
              "      <th>1</th>\n",
              "      <th>2</th>\n",
              "      <th>3</th>\n",
              "      <th>4</th>\n",
              "      <th>5</th>\n",
              "      <th>6</th>\n",
              "      <th>7</th>\n",
              "      <th>8</th>\n",
              "      <th>9</th>\n",
              "    </tr>\n",
              "  </thead>\n",
              "  <tbody>\n",
              "    <tr>\n",
              "      <th>0</th>\n",
              "      <td>1</td>\n",
              "      <td>Parking Cantecleer\\n Vilvoorde\\n\\n\\n\\n\\n Binne...</td>\n",
              "      <td>0.0</td>\n",
              "      <td>1.0</td>\n",
              "      <td>0.0</td>\n",
              "      <td>0.0</td>\n",
              "      <td>0.0</td>\n",
              "      <td>0.0</td>\n",
              "      <td>0.0</td>\n",
              "      <td>0.0</td>\n",
              "      <td>0.0</td>\n",
              "    </tr>\n",
              "    <tr>\n",
              "      <th>1</th>\n",
              "      <td>6</td>\n",
              "      <td>ZARA\\n\\n\\n ZARA ANTWERPEN\\n MEIR 58\\n Tel: 03 ...</td>\n",
              "      <td>0.0</td>\n",
              "      <td>0.0</td>\n",
              "      <td>0.0</td>\n",
              "      <td>1.0</td>\n",
              "      <td>0.0</td>\n",
              "      <td>0.0</td>\n",
              "      <td>0.0</td>\n",
              "      <td>0.0</td>\n",
              "      <td>0.0</td>\n",
              "    </tr>\n",
              "    <tr>\n",
              "      <th>2</th>\n",
              "      <td>7</td>\n",
              "      <td>RayCohes liketti\\n Noels DarkW\\n Lunch Lounge\\...</td>\n",
              "      <td>1.0</td>\n",
              "      <td>0.0</td>\n",
              "      <td>0.0</td>\n",
              "      <td>0.0</td>\n",
              "      <td>0.0</td>\n",
              "      <td>0.0</td>\n",
              "      <td>0.0</td>\n",
              "      <td>0.0</td>\n",
              "      <td>0.0</td>\n",
              "    </tr>\n",
              "    <tr>\n",
              "      <th>3</th>\n",
              "      <td>10</td>\n",
              "      <td>Park Passage 44\\n Rue de l'Ommegang, 16/20\\n B...</td>\n",
              "      <td>0.0</td>\n",
              "      <td>1.0</td>\n",
              "      <td>0.0</td>\n",
              "      <td>0.0</td>\n",
              "      <td>0.0</td>\n",
              "      <td>0.0</td>\n",
              "      <td>0.0</td>\n",
              "      <td>0.0</td>\n",
              "      <td>0.0</td>\n",
              "    </tr>\n",
              "    <tr>\n",
              "      <th>4</th>\n",
              "      <td>11</td>\n",
              "      <td>WWW .STADSPARK .BE\\nParklaan 56\\n2300 Turnhout...</td>\n",
              "      <td>1.0</td>\n",
              "      <td>0.0</td>\n",
              "      <td>0.0</td>\n",
              "      <td>0.0</td>\n",
              "      <td>0.0</td>\n",
              "      <td>0.0</td>\n",
              "      <td>0.0</td>\n",
              "      <td>0.0</td>\n",
              "      <td>0.0</td>\n",
              "    </tr>\n",
              "  </tbody>\n",
              "</table>\n",
              "</div>"
            ],
            "text/plain": [
              "   Unnamed: 0                                           raw_text    1    2  \\\n",
              "0           1  Parking Cantecleer\\n Vilvoorde\\n\\n\\n\\n\\n Binne...  0.0  1.0   \n",
              "1           6  ZARA\\n\\n\\n ZARA ANTWERPEN\\n MEIR 58\\n Tel: 03 ...  0.0  0.0   \n",
              "2           7  RayCohes liketti\\n Noels DarkW\\n Lunch Lounge\\...  1.0  0.0   \n",
              "3          10  Park Passage 44\\n Rue de l'Ommegang, 16/20\\n B...  0.0  1.0   \n",
              "4          11  WWW .STADSPARK .BE\\nParklaan 56\\n2300 Turnhout...  1.0  0.0   \n",
              "\n",
              "     3    4    5    6    7    8    9  \n",
              "0  0.0  0.0  0.0  0.0  0.0  0.0  0.0  \n",
              "1  0.0  1.0  0.0  0.0  0.0  0.0  0.0  \n",
              "2  0.0  0.0  0.0  0.0  0.0  0.0  0.0  \n",
              "3  0.0  0.0  0.0  0.0  0.0  0.0  0.0  \n",
              "4  0.0  0.0  0.0  0.0  0.0  0.0  0.0  "
            ]
          },
          "metadata": {
            "tags": []
          },
          "execution_count": 74
        }
      ]
    },
    {
      "metadata": {
        "id": "FPkFjcFLqJqe",
        "colab_type": "code",
        "colab": {
          "base_uri": "https://localhost:8080/",
          "height": 34
        },
        "outputId": "d0bf3b5a-7a4a-4f10-9634-73e60f63a895"
      },
      "cell_type": "code",
      "source": [
        "y_test.shape"
      ],
      "execution_count": 0,
      "outputs": [
        {
          "output_type": "execute_result",
          "data": {
            "text/plain": [
              "(249, 9)"
            ]
          },
          "metadata": {
            "tags": []
          },
          "execution_count": 80
        }
      ]
    },
    {
      "metadata": {
        "id": "WqUmtkzqqwWq",
        "colab_type": "code",
        "colab": {
          "base_uri": "https://localhost:8080/",
          "height": 221
        },
        "outputId": "6e132f7c-97ee-410e-e6fc-ab07e0ac2175"
      },
      "cell_type": "code",
      "source": [
        "np.argmax(y_test,axis = 1)"
      ],
      "execution_count": 0,
      "outputs": [
        {
          "output_type": "execute_result",
          "data": {
            "text/plain": [
              "array([0, 0, 0, 0, 0, 0, 0, 0, 0, 0, 0, 0, 0, 0, 0, 0, 0, 0, 0, 0, 0, 0,\n",
              "       0, 0, 0, 0, 0, 0, 0, 0, 0, 0, 0, 0, 0, 0, 0, 0, 0, 0, 0, 0, 0, 0,\n",
              "       0, 0, 0, 0, 0, 0, 0, 0, 0, 0, 0, 0, 0, 0, 0, 0, 0, 0, 0, 0, 0, 0,\n",
              "       0, 0, 0, 0, 0, 0, 0, 0, 0, 0, 0, 0, 0, 0, 0, 0, 0, 0, 0, 0, 0, 0,\n",
              "       0, 0, 0, 0, 0, 0, 0, 0, 0, 0, 0, 0, 0, 0, 0, 0, 0, 0, 0, 0, 0, 0,\n",
              "       0, 0, 0, 0, 0, 0, 0, 0, 0, 0, 0, 0, 0, 0, 0, 0, 0, 0, 0, 0, 0, 3,\n",
              "       0, 0, 0, 0, 0, 0, 0, 0, 0, 0, 0, 0, 0, 0, 0, 0, 0, 0, 0, 0, 0, 0,\n",
              "       0, 0, 0, 0, 0, 0, 0, 0, 0, 0, 0, 0, 0, 0, 0, 0, 0, 0, 0, 0, 0, 0,\n",
              "       0, 0, 0, 0, 0, 0, 0, 0, 0, 0, 0, 0, 0, 0, 0, 0, 0, 0, 0, 0, 0, 0,\n",
              "       0, 0, 0, 0, 0, 0, 0, 0, 0, 0, 0, 0, 0, 0, 0, 0, 0, 0, 0, 0, 0, 0,\n",
              "       0, 0, 0, 0, 0, 0, 0, 0, 0, 0, 0, 0, 0, 0, 0, 0, 0, 0, 0, 0, 0, 0,\n",
              "       0, 0, 0, 0, 0, 0, 0])"
            ]
          },
          "metadata": {
            "tags": []
          },
          "execution_count": 72
        }
      ]
    },
    {
      "metadata": {
        "id": "FGcv6T-qq8w-",
        "colab_type": "code",
        "colab": {
          "base_uri": "https://localhost:8080/",
          "height": 34
        },
        "outputId": "3805b8d4-a185-49a7-c58f-916c0e397e71"
      },
      "cell_type": "code",
      "source": [
        "sum(np.argmax(np.array(test_df.iloc[:,[2,3,4,5,6,7,8,9,10]]),axis = 1) == np.argmax(y_test,axis = 1))/y_test.shape[0]"
      ],
      "execution_count": 0,
      "outputs": [
        {
          "output_type": "execute_result",
          "data": {
            "text/plain": [
              "0.3654618473895582"
            ]
          },
          "metadata": {
            "tags": []
          },
          "execution_count": 73
        }
      ]
    },
    {
      "metadata": {
        "id": "9rZjRH-Jrdvb",
        "colab_type": "code",
        "colab": {
          "base_uri": "https://localhost:8080/",
          "height": 221
        },
        "outputId": "68a8181b-13b5-4a5a-81a6-402428232cda"
      },
      "cell_type": "code",
      "source": [
        "np.argmax(np.array(test_df.iloc[:,[2,3,4,5,6,7,8,9,10]]),axis = 1)"
      ],
      "execution_count": 0,
      "outputs": [
        {
          "output_type": "execute_result",
          "data": {
            "text/plain": [
              "array([1, 3, 0, 1, 0, 1, 1, 3, 0, 0, 0, 0, 3, 0, 0, 4, 1, 1, 3, 0, 2, 0,\n",
              "       3, 3, 4, 3, 3, 0, 3, 3, 3, 1, 5, 0, 3, 0, 0, 3, 0, 0, 5, 3, 3, 0,\n",
              "       0, 6, 6, 0, 0, 0, 6, 0, 6, 0, 5, 3, 6, 0, 0, 6, 3, 0, 4, 3, 0, 6,\n",
              "       6, 4, 3, 0, 2, 4, 3, 6, 0, 0, 6, 0, 0, 1, 3, 3, 6, 3, 3, 4, 0, 0,\n",
              "       3, 0, 0, 2, 0, 0, 0, 3, 3, 6, 3, 3, 3, 3, 3, 0, 0, 1, 3, 0, 1, 0,\n",
              "       1, 0, 3, 5, 3, 0, 2, 0, 0, 0, 0, 3, 0, 0, 0, 0, 8, 1, 0, 3, 0, 4,\n",
              "       4, 2, 3, 1, 3, 3, 3, 3, 1, 5, 3, 3, 3, 3, 0, 0, 0, 0, 2, 3, 3, 0,\n",
              "       0, 0, 4, 3, 1, 1, 3, 4, 3, 0, 0, 3, 1, 3, 3, 0, 3, 3, 0, 4, 3, 0,\n",
              "       3, 3, 0, 0, 3, 3, 3, 0, 0, 0, 3, 0, 0, 4, 0, 3, 3, 1, 0, 1, 1, 0,\n",
              "       5, 1, 3, 1, 1, 2, 4, 1, 3, 0, 0, 0, 6, 0, 5, 4, 2, 6, 3, 0, 0, 3,\n",
              "       5, 0, 3, 3, 3, 3, 0, 1, 3, 3, 0, 0, 0, 0, 3, 0, 3, 3, 6, 6, 4, 0,\n",
              "       6, 6, 6, 3, 5, 5, 5])"
            ]
          },
          "metadata": {
            "tags": []
          },
          "execution_count": 77
        }
      ]
    },
    {
      "metadata": {
        "id": "WdDe2NA7nFgd",
        "colab_type": "code",
        "colab": {
          "base_uri": "https://localhost:8080/",
          "height": 34
        },
        "outputId": "06899491-adb9-450d-ea72-d9b84a6cf32a"
      },
      "cell_type": "code",
      "source": [
        "sum(np.argmax(np.array(test_df.iloc[:,[2,3,4,5,6,7,8,9,10]]),axis = 1) == 1)"
      ],
      "execution_count": 0,
      "outputs": [
        {
          "output_type": "execute_result",
          "data": {
            "text/plain": [
              "25"
            ]
          },
          "metadata": {
            "tags": []
          },
          "execution_count": 79
        }
      ]
    },
    {
      "metadata": {
        "id": "K1ZfghpbnbQG",
        "colab_type": "code",
        "colab": {}
      },
      "cell_type": "code",
      "source": [
        ""
      ],
      "execution_count": 0,
      "outputs": []
    }
  ]
}